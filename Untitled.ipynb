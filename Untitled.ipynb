{
 "cells": [
  {
   "cell_type": "markdown",
   "id": "20f7efdf-7220-46d2-b990-f29ce4f77a4d",
   "metadata": {},
   "source": [
    "# CHAPTER 3"
   ]
  },
  {
   "cell_type": "markdown",
   "id": "cfa6811b-5041-434c-bbe9-8eda3a1be33e",
   "metadata": {},
   "source": [
    "#  Structures"
   ]
  },
  {
   "cell_type": "markdown",
   "id": "5279dae9-5beb-42c9-824a-028b078aba9b",
   "metadata": {},
   "source": [
    "###  3.1 Lists"
   ]
  },
  {
   "cell_type": "code",
   "execution_count": 1,
   "id": "61bd7a68-6993-493f-844b-c8a6da0d88ab",
   "metadata": {},
   "outputs": [
    {
     "name": "stdout",
     "output_type": "stream",
     "text": [
      "['Pascaline', 'Gauthier', 'Xuan', 'Jimmy']\n"
     ]
    }
   ],
   "source": [
    " x = [\"Pascaline\", \"Gauthier\", \"Xuan\", \"Jimmy\"]\n",
    " print(x)"
   ]
  },
  {
   "cell_type": "markdown",
   "id": "995b2e00-3571-4c4b-882e-52f4ac41d912",
   "metadata": {},
   "source": [
    "Tạo danh sách chứa 4 chuỗi và print(x) hiển thị toàn bộ danh sách."
   ]
  },
  {
   "cell_type": "code",
   "execution_count": 2,
   "id": "2ca0b621-3f3a-47f8-b854-c1a22b270968",
   "metadata": {},
   "outputs": [
    {
     "name": "stdout",
     "output_type": "stream",
     "text": [
      "[1, 2, 3, 4, 5]\n"
     ]
    }
   ],
   "source": [
    " y = [1, 2, 3, 4, 5]\n",
    " print(y)"
   ]
  },
  {
   "cell_type": "markdown",
   "id": "ed1416ec-1823-4b2a-aa1f-0e8afaa11d2e",
   "metadata": {},
   "source": [
    "in ra (y) Danh sách chứa số nguyên."
   ]
  },
  {
   "cell_type": "code",
   "execution_count": 3,
   "id": "0dc8d449-aff8-439a-9ff7-b8f5694bdb56",
   "metadata": {},
   "outputs": [
    {
     "name": "stdout",
     "output_type": "stream",
     "text": [
      "['Piketty', 'Thomas', 1971]\n"
     ]
    }
   ],
   "source": [
    " z = [\"Piketty\", \"Thomas\", 1971]\n",
    " print(z)"
   ]
  },
  {
   "cell_type": "markdown",
   "id": "1301177d-6335-41bd-9ac6-00a554691c68",
   "metadata": {},
   "source": [
    "in (z) Danh sách có thể chứa nhiều kiểu dữ liệu khác nhau (chuỗi + số)."
   ]
  },
  {
   "cell_type": "code",
   "execution_count": null,
   "id": "0211e123-cf17-47ee-9d84-613d76566baf",
   "metadata": {},
   "outputs": [],
   "source": []
  }
 ],
 "metadata": {
  "kernelspec": {
   "display_name": "Python 3 (ipykernel)",
   "language": "python",
   "name": "python3"
  },
  "language_info": {
   "codemirror_mode": {
    "name": "ipython",
    "version": 3
   },
   "file_extension": ".py",
   "mimetype": "text/x-python",
   "name": "python",
   "nbconvert_exporter": "python",
   "pygments_lexer": "ipython3",
   "version": "3.12.1"
  }
 },
 "nbformat": 4,
 "nbformat_minor": 5
}
