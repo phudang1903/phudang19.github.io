{
 "cells": [
  {
   "cell_type": "markdown",
   "id": "862414c3-5faf-4bac-b348-250da9d14d06",
   "metadata": {},
   "source": [
    "# Chapter 4"
   ]
  },
  {
   "cell_type": "markdown",
   "id": "40706457-b48c-4442-8330-529413b75fdd",
   "metadata": {},
   "source": [
    "# Operators"
   ]
  },
  {
   "cell_type": "markdown",
   "id": "07ce0dd9-af54-4c0a-9d44-509fb16b01ab",
   "metadata": {},
   "source": [
    "### 4.1 Arithmetic Operators"
   ]
  },
  {
   "cell_type": "markdown",
   "id": "783d45c3-9d6e-486e-9aae-79be7110c0ee",
   "metadata": {},
   "source": [
    " The basic arithmetic operators are integrated in Python.\n",
    " We have already used some of them in the previous chapters to perform operations on\n",
    " integers or floating point numbers (addition, subtraction, etc.). Let’s take a quick look\n",
    " at the most common arithmetic operators used to perform operations on numbers."
   ]
  },
  {
   "cell_type": "markdown",
   "id": "ddcbb773-dd3d-4fe2-912f-fafbe3a89ac3",
   "metadata": {},
   "source": [
    "#### 4.1.1 Addition"
   ]
  },
  {
   "cell_type": "code",
   "execution_count": 1,
   "id": "c0015769-7176-4689-b316-e7152293184f",
   "metadata": {},
   "outputs": [
    {
     "name": "stdout",
     "output_type": "stream",
     "text": [
      "2\n"
     ]
    }
   ],
   "source": [
    "print(1+1) # Addition"
   ]
  },
  {
   "cell_type": "markdown",
   "id": "1a834cd4-cfd7-487f-bb68-bc8c2aea5e44",
   "metadata": {},
   "source": [
    "print(1+1) # Addition tính tổng 1 + 1 và in ra kết quả 2, phần sau # là chú thích Python bỏ qua\n"
   ]
  },
  {
   "cell_type": "markdown",
   "id": "fcb6990b-339d-44ce-97e8-e9b80b155d0b",
   "metadata": {},
   "source": [
    "#### 4.1.2 Subtraction"
   ]
  },
  {
   "cell_type": "code",
   "execution_count": 2,
   "id": "9cc2cdfe-5b74-43c0-b03f-dd972e96e238",
   "metadata": {},
   "outputs": [
    {
     "name": "stdout",
     "output_type": "stream",
     "text": [
      "0\n"
     ]
    }
   ],
   "source": [
    "print(1-1) # Subtraction"
   ]
  },
  {
   "cell_type": "markdown",
   "id": "cc3f3ecd-594f-47d7-84b0-b9514c134d92",
   "metadata": {},
   "source": [
    "print(1-1) # Subtraction tính 1 - 1 và in ra kết quả 0\n"
   ]
  },
  {
   "cell_type": "markdown",
   "id": "c2e0a5f6-970d-4218-bdac-8db87e8c7fe1",
   "metadata": {},
   "source": [
    " #### 4.1.3 Multiplication"
   ]
  },
  {
   "cell_type": "code",
   "execution_count": 3,
   "id": "31637cd1-c5d8-45b9-8e8c-d49e4816db2a",
   "metadata": {},
   "outputs": [
    {
     "name": "stdout",
     "output_type": "stream",
     "text": [
      "4\n"
     ]
    }
   ],
   "source": [
    " print(2*2) # Multiplication"
   ]
  },
  {
   "cell_type": "markdown",
   "id": "46033204-6c45-42f2-b7f7-b32d0361122d",
   "metadata": {},
   "source": [
    "print(2\\*2) # Multiplication tính 2 \\* 2 và in ra kết quả 4\n"
   ]
  },
  {
   "cell_type": "markdown",
   "id": "5cc1c68d-5fe5-4979-badb-0795ec2b264c",
   "metadata": {},
   "source": [
    "#### 4.1.4 Division"
   ]
  },
  {
   "cell_type": "code",
   "execution_count": 4,
   "id": "cfe6fb30-2b33-464b-bea7-c6f6f3af185f",
   "metadata": {},
   "outputs": [
    {
     "name": "stdout",
     "output_type": "stream",
     "text": [
      "1.5\n"
     ]
    }
   ],
   "source": [
    " print(3/2) # Division"
   ]
  },
  {
   "cell_type": "markdown",
   "id": "b2d69fd8-4a95-4d33-bc9d-89ac5227cab9",
   "metadata": {},
   "source": [
    "print(3/2) # Division tính 3 chia 2 và in ra kết quả 1.5\n"
   ]
  },
  {
   "cell_type": "code",
   "execution_count": 6,
   "id": "e19f00d1-71a5-44b5-a0a9-39c01f71cbd4",
   "metadata": {},
   "outputs": [
    {
     "name": "stdout",
     "output_type": "stream",
     "text": [
      "1\n"
     ]
    }
   ],
   "source": [
    "print(3//2) # Euclidean division"
   ]
  },
  {
   "cell_type": "markdown",
   "id": "505b9c4a-8e88-45ff-9858-854871ce0b31",
   "metadata": {},
   "source": [
    "print(3//2) # Euclidean division tính 3 chia 2 lấy phần nguyên, kết quả là 1\n"
   ]
  },
  {
   "cell_type": "markdown",
   "id": "6f7841c0-cc22-4e4f-ae5c-3d5a7386f613",
   "metadata": {},
   "source": [
    "####  4.1.5 Modulo"
   ]
  },
  {
   "cell_type": "code",
   "execution_count": 7,
   "id": "1be670a1-956d-46fa-84b3-e57d244e0620",
   "metadata": {},
   "outputs": [
    {
     "name": "stdout",
     "output_type": "stream",
     "text": [
      "2\n"
     ]
    }
   ],
   "source": [
    "print(12%10) # Modulo"
   ]
  },
  {
   "cell_type": "markdown",
   "id": "4f97e453-6a4a-43fa-9e8a-bb5825ce6332",
   "metadata": {},
   "source": [
    "print(12%10) # Modulo tính phần dư của 12 chia 10, kết quả là 2"
   ]
  },
  {
   "cell_type": "markdown",
   "id": "a68a3835-3975-4617-a52b-b11bccf3919d",
   "metadata": {},
   "source": [
    "#### 4.1.6 Power"
   ]
  },
  {
   "cell_type": "code",
   "execution_count": 8,
   "id": "bbad34d0-cd7e-4206-9031-baf52914afec",
   "metadata": {},
   "outputs": [
    {
     "name": "stdout",
     "output_type": "stream",
     "text": [
      "8\n"
     ]
    }
   ],
   "source": [
    "print(2**3) # 2^3"
   ]
  },
  {
   "cell_type": "markdown",
   "id": "52616b3a-0e34-483b-98d9-bcd7ddaa25c2",
   "metadata": {},
   "source": [
    "print(2\\*\\*3) # 2^3 tính 2 mũ 3, kết quả là 8\n"
   ]
  },
  {
   "cell_type": "markdown",
   "id": "7dd1015d-aded-476a-a71f-25843dbb299e",
   "metadata": {},
   "source": [
    "#### 4.1.7 Order"
   ]
  },
  {
   "cell_type": "code",
   "execution_count": 9,
   "id": "ee096fca-06fd-46e1-8636-5a8f3e764fd6",
   "metadata": {},
   "outputs": [
    {
     "name": "stdout",
     "output_type": "stream",
     "text": [
      "5\n"
     ]
    }
   ],
   "source": [
    "print(2*2+1)"
   ]
  },
  {
   "cell_type": "markdown",
   "id": "89cf887d-9748-44d2-95cc-dfb6db641947",
   "metadata": {},
   "source": [
    "print(2\\*2+1) tính 2 nhân 2 rồi cộng 1, kết quả là 5\n"
   ]
  },
  {
   "cell_type": "code",
   "execution_count": 10,
   "id": "eb375d60-7290-40fd-be2e-a1a6c1df2143",
   "metadata": {},
   "outputs": [
    {
     "name": "stdout",
     "output_type": "stream",
     "text": [
      "6\n"
     ]
    }
   ],
   "source": [
    " print(2*(2+1))"
   ]
  },
  {
   "cell_type": "markdown",
   "id": "452298c2-ea3a-4ecf-8040-20399ed3886e",
   "metadata": {},
   "source": [
    "print(2\\*(2+1)) tính 2 nhân tổng (2 + 1), kết quả là 6\n"
   ]
  },
  {
   "cell_type": "markdown",
   "id": "e88ac80a-dece-45e4-b43a-61b9fc6f6fd7",
   "metadata": {},
   "source": [
    "####  4.1.8 Mathematical Operators on Strings"
   ]
  },
  {
   "cell_type": "code",
   "execution_count": 11,
   "id": "f473f9fc-31df-42ba-b7ee-67b0cf2545a5",
   "metadata": {},
   "outputs": [
    {
     "name": "stdout",
     "output_type": "stream",
     "text": [
      "eurodollar\n"
     ]
    }
   ],
   "source": [
    " a = \"euro\"\n",
    " b = \"dollar\"\n",
    " print(a+b)"
   ]
  },
  {
   "cell_type": "markdown",
   "id": "0d4fadf7-442a-4d10-8b21-9549d145146e",
   "metadata": {},
   "source": [
    "a = \"euro\"\n",
    "\n",
    "b = \"dollar\"\n",
    "\n",
    "print(a+b) nối chuỗi a và b, kết quả là \"eurodollar\""
   ]
  },
  {
   "cell_type": "code",
   "execution_count": 12,
   "id": "dcb5ecef-cebb-442b-a6a8-28430b9550ec",
   "metadata": {},
   "outputs": [
    {
     "data": {
      "text/plain": [
       "'euroeuro'"
      ]
     },
     "execution_count": 12,
     "metadata": {},
     "output_type": "execute_result"
    }
   ],
   "source": [
    "2*a"
   ]
  },
  {
   "cell_type": "markdown",
   "id": "1886018c-cd45-48e0-bd77-f5cf34668c01",
   "metadata": {},
   "source": [
    "kết quả là \"euroeuro\" – lặp chuỗi 2 lần."
   ]
  },
  {
   "cell_type": "markdown",
   "id": "e8ff550c-a605-4f87-8baf-66d309565bd7",
   "metadata": {},
   "source": [
    "####  4.1.9 Mathematical Operators on Lists or tuples"
   ]
  },
  {
   "cell_type": "code",
   "execution_count": 13,
   "id": "86d94560-567e-4d15-9d0c-a604eddd3232",
   "metadata": {},
   "outputs": [
    {
     "name": "stdout",
     "output_type": "stream",
     "text": [
      "[1, 'apple', 5, 7, 9, 11]\n"
     ]
    }
   ],
   "source": [
    " l_1 = [1, \"apple\", 5, 7]\n",
    " l_2 = [9, 11]\n",
    " print(l_1 + l_2)"
   ]
  },
  {
   "cell_type": "markdown",
   "id": "3c7dcc79-1227-4021-bf91-885ed3d29f60",
   "metadata": {},
   "source": [
    "print(l_1 + l_2) nối hai list l_1 và l_2, kết quả là [1, \"apple\", 5, 7, 9, 11]"
   ]
  },
  {
   "cell_type": "code",
   "execution_count": 16,
   "id": "07cf4451-b558-4be3-b5ad-12fae1b47a83",
   "metadata": {},
   "outputs": [
    {
     "name": "stdout",
     "output_type": "stream",
     "text": [
      "[1, 'apple', 5, 7, 1, 'apple', 5, 7, 1, 'apple', 5, 7]\n"
     ]
    }
   ],
   "source": [
    "print(3*l_1)"
   ]
  },
  {
   "cell_type": "markdown",
   "id": "ef12e1b4-70e8-4804-b55a-921a95e1f519",
   "metadata": {},
   "source": [
    "print(3\\*l\\_1) lặp list l\\_1 ba lần, kết quả là \\[1, \"apple\", 5, 7, 1, \"apple\", 5, 7, 1, \"apple\", 5, 7]\n"
   ]
  },
  {
   "cell_type": "markdown",
   "id": "d3b04625-6ae0-404f-a23c-2325095765e7",
   "metadata": {},
   "source": [
    " ### 4.2 Comparison Operators"
   ]
  },
  {
   "cell_type": "markdown",
   "id": "0097ec25-bc45-4b91-9544-144b4a1c7a66",
   "metadata": {},
   "source": [
    "####  4.2.1 Equality, Inequality"
   ]
  },
  {
   "cell_type": "code",
   "execution_count": 17,
   "id": "51044f42-9103-49e9-a58b-9d813c8ae516",
   "metadata": {},
   "outputs": [
    {
     "name": "stdout",
     "output_type": "stream",
     "text": [
      "False\n"
     ]
    }
   ],
   "source": [
    " a = \"Hello\"\n",
    " b = \"World\"\n",
    " c = \"World\"\n",
    " print(a == c)"
   ]
  },
  {
   "cell_type": "code",
   "execution_count": 18,
   "id": "3f676d94-1a9c-45af-9915-f5a01958645b",
   "metadata": {},
   "outputs": [
    {
     "name": "stdout",
     "output_type": "stream",
     "text": [
      "True\n"
     ]
    }
   ],
   "source": [
    " print(b == c)"
   ]
  },
  {
   "cell_type": "markdown",
   "id": "aeee8dbe-8440-468d-9097-919c215ccc13",
   "metadata": {},
   "source": [
    "print(a == c) so sánh a và c, kết quả là False\n",
    "print(b == c) so sánh b và c, kết quả là True\n",
    "( vì b là world và c cũng là world )"
   ]
  },
  {
   "cell_type": "code",
   "execution_count": 22,
   "id": "5632ffa9-2daf-48de-9e52-6b704a18dda2",
   "metadata": {},
   "outputs": [
    {
     "name": "stdout",
     "output_type": "stream",
     "text": [
      "False\n"
     ]
    }
   ],
   "source": [
    "x = [1,2,3]\n",
    "y = [1,2,3]\n",
    "z = [1,3,4]\n",
    "print(x != y)"
   ]
  },
  {
   "cell_type": "markdown",
   "id": "6bc984d8-748f-44b7-8630-414f915b8f35",
   "metadata": {},
   "source": [
    " print(x != z)"
   ]
  },
  {
   "cell_type": "markdown",
   "id": "fae9f751-722b-4e3d-9829-8a7111736354",
   "metadata": {},
   "source": [
    "print(x != y) so sánh x và y, kết quả là False\n",
    "\n",
    "print(x != z) so sánh x và z, kết quả là True"
   ]
  },
  {
   "cell_type": "markdown",
   "id": "a55d2dc8-48b6-4b55-841e-f1af5aa00439",
   "metadata": {},
   "source": [
    "#### 4.2.2 Inferiority and Superiority, Strict or Broad"
   ]
  },
  {
   "cell_type": "code",
   "execution_count": 24,
   "id": "b377d4cc-ff39-4534-aeeb-5899131901f0",
   "metadata": {},
   "outputs": [
    {
     "name": "stdout",
     "output_type": "stream",
     "text": [
      "False\n"
     ]
    }
   ],
   "source": [
    " x = 1\n",
    " y = 1\n",
    " z = 2\n",
    " print(x < y)"
   ]
  },
  {
   "cell_type": "markdown",
   "id": "cf0a2676-7ad7-4b64-9598-3033c1b02116",
   "metadata": {},
   "source": [
    "print(x < y) so sánh x nhỏ hơn y, kết quả là False"
   ]
  },
  {
   "cell_type": "code",
   "execution_count": 25,
   "id": "606b5949-3e87-453c-9a14-018c90c9fc0e",
   "metadata": {},
   "outputs": [
    {
     "name": "stdout",
     "output_type": "stream",
     "text": [
      "True\n"
     ]
    }
   ],
   "source": [
    "print(x <= y)"
   ]
  },
  {
   "cell_type": "markdown",
   "id": "2efba9f6-5ab0-43e7-9114-fc9cc18df8ad",
   "metadata": {},
   "source": [
    "print(x <= y) so sánh x bằng hoặc nhỏ hơn y, kết quả là True"
   ]
  },
  {
   "cell_type": "code",
   "execution_count": 26,
   "id": "07209651-7caa-4afa-9db7-030a9dba1d64",
   "metadata": {},
   "outputs": [
    {
     "name": "stdout",
     "output_type": "stream",
     "text": [
      "False\n"
     ]
    }
   ],
   "source": [
    "print(x > z)"
   ]
  },
  {
   "cell_type": "markdown",
   "id": "a5fa31c6-7617-4477-82db-01021c3dfc33",
   "metadata": {},
   "source": [
    "print(x > z) so sánh x lớn hơn z, kết quả là False"
   ]
  },
  {
   "cell_type": "code",
   "execution_count": 27,
   "id": "9ba8cb5e-1094-4809-b28e-dc515165537e",
   "metadata": {},
   "outputs": [
    {
     "name": "stdout",
     "output_type": "stream",
     "text": [
      "False\n"
     ]
    }
   ],
   "source": [
    " print(x >= z)"
   ]
  },
  {
   "cell_type": "markdown",
   "id": "bc357621-2b7a-4eb5-8ed0-20308497e722",
   "metadata": {},
   "source": [
    "print(x >= z) so sánh x lớn hơn hoặc bằng z, kết quả là False\n"
   ]
  },
  {
   "cell_type": "code",
   "execution_count": 28,
   "id": "3e09c6b0-0709-4387-8d05-0ad05fc286dc",
   "metadata": {},
   "outputs": [
    {
     "name": "stdout",
     "output_type": "stream",
     "text": [
      "True\n"
     ]
    }
   ],
   "source": [
    " m_1 = \"eat\"\n",
    " m_2 = \"eating\"\n",
    " m_3 = \"drinking\"\n",
    " print(m_1 < m_2) # eat before eating?"
   ]
  },
  {
   "cell_type": "markdown",
   "id": "1cc6b72e-2554-4d2b-b10f-f6d8cdebe21d",
   "metadata": {},
   "source": [
    "print(m\\_1 < m\\_2) so sánh thứ tự chữ cái của m\\_1 và m\\_2 theo bảng chữ cái, kết quả là True (vì \"eat\" đứng trước \"eating\")\n"
   ]
  },
  {
   "cell_type": "code",
   "execution_count": 29,
   "id": "dac93926-a16c-4530-b4cd-300d039ead11",
   "metadata": {},
   "outputs": [
    {
     "name": "stdout",
     "output_type": "stream",
     "text": [
      "False\n"
     ]
    }
   ],
   "source": [
    "print(m_3 > m_1) # drinking after eat?"
   ]
  },
  {
   "cell_type": "markdown",
   "id": "c0615c72-19ef-4c50-994f-b8de48a64494",
   "metadata": {},
   "source": [
    "print(m\\_3 > m\\_1) so sánh thứ tự chữ cái của m\\_3 và m\\_1 theo bảng chữ cái, kết quả là True (vì \"drinking\" đứng sau \"eat\")\n"
   ]
  },
  {
   "cell_type": "code",
   "execution_count": 30,
   "id": "eae21c79-7c9f-4948-8ec8-9dce52ec2659",
   "metadata": {},
   "outputs": [],
   "source": [
    " x = [1, 3, 5, 7]\n",
    " y = [9, 11]"
   ]
  },
  {
   "cell_type": "code",
   "execution_count": 31,
   "id": "ce2d1b88-b8dc-4e66-9377-74422c512ee7",
   "metadata": {},
   "outputs": [
    {
     "name": "stdout",
     "output_type": "stream",
     "text": [
      "True\n"
     ]
    }
   ],
   "source": [
    "print(x < y)"
   ]
  },
  {
   "cell_type": "markdown",
   "id": "50266bd8-bf00-4bef-ae23-300f381de36c",
   "metadata": {},
   "source": [
    "print(x < y) so sánh từng phần tử theo thứ tự của hai list, kết quả là True (vì phần tử đầu tiên 1 < 9)"
   ]
  },
  {
   "cell_type": "code",
   "execution_count": 32,
   "id": "b057fd1d-4807-4780-9061-5075c1dd5485",
   "metadata": {},
   "outputs": [
    {
     "name": "stdout",
     "output_type": "stream",
     "text": [
      "False\n"
     ]
    }
   ],
   "source": [
    " x = [10, 3, 5, 7]\n",
    " y = [9, 11]\n",
    " print(x < y)"
   ]
  },
  {
   "cell_type": "markdown",
   "id": "ea88df0a-4f40-4e8f-9812-4599cdd20f02",
   "metadata": {},
   "source": [
    "print(x < y) so sánh từng phần tử theo thứ tự của hai list, kết quả là False (vì phần tử đầu tiên 10 > 9)"
   ]
  },
  {
   "cell_type": "code",
   "execution_count": 33,
   "id": "81efb29c-3ce6-4564-aa37-ff6d08730e65",
   "metadata": {},
   "outputs": [
    {
     "name": "stdout",
     "output_type": "stream",
     "text": [
      "True\n"
     ]
    }
   ],
   "source": [
    " x = [10, 3, 5, 7]\n",
    " y = [10, 11]\n",
    " print(x < y)"
   ]
  },
  {
   "cell_type": "markdown",
   "id": "6bbaeb73-5fcc-4419-acf4-30fa1887b6fe",
   "metadata": {},
   "source": [
    "print(x < y) so sánh từng phần tử theo thứ tự của hai list, kết quả là True (vì phần tử đầu tiên bằng 10, phần tử thứ hai 3 < 11)\n"
   ]
  },
  {
   "cell_type": "code",
   "execution_count": 35,
   "id": "3fc602b8-5bb8-49dc-a7a6-2226e8f0fb0b",
   "metadata": {},
   "outputs": [
    {
     "name": "stdout",
     "output_type": "stream",
     "text": [
      "False\n"
     ]
    }
   ],
   "source": [
    " x = [10, 12, 5, 7]\n",
    " y = [10, 11]\n",
    " print(x < y)"
   ]
  },
  {
   "cell_type": "markdown",
   "id": "53a79b5a-b37e-4047-a095-541bc3558dfd",
   "metadata": {},
   "source": [
    "print(x < y) so sánh từng phần tử theo thứ tự của hai list, kết quả là False (vì phần tử thứ hai 12 > 11)"
   ]
  },
  {
   "cell_type": "markdown",
   "id": "8adf9d2b-16c5-425a-8563-e9f60dbaba3f",
   "metadata": {},
   "source": [
    "#### 4.2.3 Inclusion and exclusion"
   ]
  },
  {
   "cell_type": "code",
   "execution_count": 36,
   "id": "2046de00-de88-48eb-9eda-64b924670fd9",
   "metadata": {},
   "outputs": [
    {
     "name": "stdout",
     "output_type": "stream",
     "text": [
      "True\n"
     ]
    }
   ],
   "source": [
    "print(3 in [1,2, 3])"
   ]
  },
  {
   "cell_type": "markdown",
   "id": "feeb274d-a3b0-4927-813a-e07582cdb5c9",
   "metadata": {},
   "source": [
    "print(3 in [1,2,3]) kiểm tra xem 3 có trong list [1,2,3] không, kết quả là True"
   ]
  },
  {
   "cell_type": "code",
   "execution_count": 37,
   "id": "64f364e9-d71b-4d0a-9ef9-329c6f500615",
   "metadata": {},
   "outputs": [
    {
     "name": "stdout",
     "output_type": "stream",
     "text": [
      "True\n"
     ]
    }
   ],
   "source": [
    " print(4 not in [1,2, 3])"
   ]
  },
  {
   "cell_type": "markdown",
   "id": "2d256f24-c515-4f2a-bc89-1342cbcd331d",
   "metadata": {},
   "source": [
    "print(4 not in \\[1,2,3]) kiểm tra xem 4 không có trong list \\[1,2,3], kết quả là True"
   ]
  },
  {
   "cell_type": "code",
   "execution_count": 39,
   "id": "170b5b4d-6796-434d-80b9-b3ed2f5b8872",
   "metadata": {},
   "outputs": [
    {
     "name": "stdout",
     "output_type": "stream",
     "text": [
      "False\n"
     ]
    }
   ],
   "source": [
    " print(4 not in [1,2, 3, 4])"
   ]
  },
  {
   "cell_type": "markdown",
   "id": "b4737b36-350b-49cb-931c-1fc7d24e3535",
   "metadata": {},
   "source": [
    "print(4 not in [1,2,3,4]) kiểm tra xem 4 không có trong list [1,2,3,4], kết quả là False"
   ]
  },
  {
   "cell_type": "code",
   "execution_count": 40,
   "id": "670c2b40-6b15-4433-a516-82afc13cc0c6",
   "metadata": {},
   "outputs": [
    {
     "data": {
      "text/plain": [
       "True"
      ]
     },
     "execution_count": 40,
     "metadata": {},
     "output_type": "execute_result"
    }
   ],
   "source": [
    "dictionnaire = {\"nom\": \"Rockwell\", \"prenom\": \"Criquette\"}\n",
    "\"age\" not in dictionnaire.keys()"
   ]
  },
  {
   "cell_type": "markdown",
   "id": "63af4677-9c0d-4118-850a-12b93ead1acd",
   "metadata": {},
   "source": [
    "kiểm tra xem khóa \"age\" có không tồn tại trong dictionnaire, kết quả là True"
   ]
  },
  {
   "cell_type": "markdown",
   "id": "9a463ed5-6700-4538-8668-312b09aeb534",
   "metadata": {},
   "source": [
    "### 4.3 Logical operators"
   ]
  },
  {
   "cell_type": "markdown",
   "id": "ba3c5600-e8b8-4e8a-ba71-0be1af6f7fa5",
   "metadata": {},
   "source": [
    " Logical operators operate on one or more logical objects (Boolean)."
   ]
  },
  {
   "cell_type": "markdown",
   "id": "c4638dd3-ae8a-405c-813e-7506622da455",
   "metadata": {},
   "source": [
    "#### 4.3.1 And logical"
   ]
  },
  {
   "cell_type": "code",
   "execution_count": 42,
   "id": "035ea32b-14ce-4003-a473-ceb179aa8788",
   "metadata": {},
   "outputs": [
    {
     "name": "stdout",
     "output_type": "stream",
     "text": [
      "True\n"
     ]
    }
   ],
   "source": [
    " x = True\n",
    " y = True\n",
    " print(x and y)"
   ]
  },
  {
   "cell_type": "markdown",
   "id": "5f0a3482-9ae3-451e-baf2-f02e2a6acecf",
   "metadata": {},
   "source": [
    "print(x and y) toán tử and kiểm tra cả hai giá trị có đều True không, kết quả là True"
   ]
  },
  {
   "cell_type": "code",
   "execution_count": 43,
   "id": "f7fac1ec-74e6-4e98-94d0-47788e66c2d9",
   "metadata": {},
   "outputs": [
    {
     "name": "stdout",
     "output_type": "stream",
     "text": [
      "False\n"
     ]
    }
   ],
   "source": [
    " x = True\n",
    " y = False\n",
    " print(x and y)"
   ]
  },
  {
   "cell_type": "markdown",
   "id": "d1da50af-bde5-48da-bdbc-13cbccd47cf9",
   "metadata": {},
   "source": [
    "print(x and y) toán tử and kiểm tra cả hai giá trị có đều True không, kết quả là False"
   ]
  },
  {
   "cell_type": "code",
   "execution_count": 44,
   "id": "8971ce17-70fe-47c1-98a5-ab8ec50c37a6",
   "metadata": {},
   "outputs": [
    {
     "name": "stdout",
     "output_type": "stream",
     "text": [
      "False\n"
     ]
    }
   ],
   "source": [
    " print(y and y)"
   ]
  },
  {
   "cell_type": "markdown",
   "id": "7a89a1ed-2511-49d5-a9c4-8a06d4408e71",
   "metadata": {},
   "source": [
    "print(y and y) toán tử and kiểm tra cả hai giá trị y (False) có đều True không, kết quả là False\n"
   ]
  },
  {
   "cell_type": "code",
   "execution_count": 45,
   "id": "05768d47-d6c3-458e-82cf-d6d99fdbcf10",
   "metadata": {},
   "outputs": [
    {
     "name": "stdout",
     "output_type": "stream",
     "text": [
      "None\n"
     ]
    }
   ],
   "source": [
    " x = True\n",
    " y = False\n",
    " z = None\n",
    " print(x and z)"
   ]
  },
  {
   "cell_type": "markdown",
   "id": "7f43e553-7cc0-4e99-b10f-8c6c06073d1b",
   "metadata": {},
   "source": [
    "print(x and z) toán tử and trả về z nếu x là True, kết quả là None"
   ]
  },
  {
   "cell_type": "code",
   "execution_count": 46,
   "id": "f803c716-632f-425e-86fb-14b9662f053e",
   "metadata": {},
   "outputs": [
    {
     "name": "stdout",
     "output_type": "stream",
     "text": [
      "False\n"
     ]
    }
   ],
   "source": [
    "print(y and z)"
   ]
  },
  {
   "cell_type": "markdown",
   "id": "51208267-4475-4ca3-83e5-fe04e8250148",
   "metadata": {},
   "source": [
    "print(y and z) toán tử **and** trả về **y** nếu y là False, kết quả là False"
   ]
  },
  {
   "cell_type": "code",
   "execution_count": 5,
   "id": "8f64e7b7-19a6-4c35-8370-8ec653114df9",
   "metadata": {},
   "outputs": [
    {
     "name": "stdout",
     "output_type": "stream",
     "text": [
      "None\n"
     ]
    }
   ],
   "source": [
    "print(z and z)"
   ]
  },
  {
   "cell_type": "markdown",
   "id": "64da972d-dccb-4744-91b3-1b182c75c334",
   "metadata": {},
   "source": [
    "print(z and z) toán tử and trả về z nếu z là False hoặc None, kết quả là None"
   ]
  },
  {
   "cell_type": "markdown",
   "id": "25bae54f-48f3-4400-a3f7-b30b35c1436f",
   "metadata": {},
   "source": [
    "#### 4.3.2 Logical OR"
   ]
  },
  {
   "cell_type": "code",
   "execution_count": 6,
   "id": "8892808c-a3e8-4bfc-b009-999bb2dd1a12",
   "metadata": {},
   "outputs": [
    {
     "name": "stdout",
     "output_type": "stream",
     "text": [
      "True\n"
     ]
    }
   ],
   "source": [
    " x = True\n",
    " y = False\n",
    " print(x or y)"
   ]
  },
  {
   "cell_type": "markdown",
   "id": "70b97724-5e68-4ef0-8d18-5d425087929b",
   "metadata": {},
   "source": [
    "print(x or y) toán tử or trả về True nếu ít nhất một trong hai giá trị là True, kết quả là True"
   ]
  },
  {
   "cell_type": "code",
   "execution_count": 8,
   "id": "e0186092-f49c-4c8b-8fec-5ce5bc8ebf48",
   "metadata": {},
   "outputs": [
    {
     "name": "stdout",
     "output_type": "stream",
     "text": [
      "False\n"
     ]
    }
   ],
   "source": [
    "x = False\n",
    "y = False\n",
    "print(x or y)"
   ]
  },
  {
   "cell_type": "markdown",
   "id": "3320174d-af21-4c6c-a3c2-ba8044e613e8",
   "metadata": {},
   "source": [
    "print(x or y) toán tử or trả về True nếu ít nhất một trong hai giá trị là True, kết quả là False"
   ]
  },
  {
   "cell_type": "code",
   "execution_count": 9,
   "id": "70905704-024a-4e57-af1c-387cded37360",
   "metadata": {},
   "outputs": [
    {
     "name": "stdout",
     "output_type": "stream",
     "text": [
      "True\n"
     ]
    }
   ],
   "source": [
    " x = True\n",
    " y = False\n",
    " z = None\n",
    " print(x or z)"
   ]
  },
  {
   "cell_type": "markdown",
   "id": "b0d04aa8-5d0d-48f5-98e3-53bb1970eeab",
   "metadata": {},
   "source": [
    "print(x or z) toán tử or trả về giá trị True đầu tiên nếu có, kết quả là True"
   ]
  },
  {
   "cell_type": "code",
   "execution_count": 10,
   "id": "02bae3a0-fbc1-4c3a-85d3-25bac9eabf07",
   "metadata": {},
   "outputs": [
    {
     "name": "stdout",
     "output_type": "stream",
     "text": [
      "None\n"
     ]
    }
   ],
   "source": [
    " print(y or z)"
   ]
  },
  {
   "cell_type": "markdown",
   "id": "4531a401-0a39-4ad3-9842-b0d910acb6e0",
   "metadata": {},
   "source": [
    "print(y or z) toán tử or trả về giá trị True đầu tiên nếu có, nếu không có thì trả về giá trị cuối cùng, kết quả là None"
   ]
  },
  {
   "cell_type": "code",
   "execution_count": 11,
   "id": "9051a6a5-6010-4f65-8cb6-fae698e33a89",
   "metadata": {},
   "outputs": [
    {
     "name": "stdout",
     "output_type": "stream",
     "text": [
      "None\n"
     ]
    }
   ],
   "source": [
    " print(z or z)"
   ]
  },
  {
   "cell_type": "markdown",
   "id": "4867c79e-b4f3-4f1c-819c-3f1223f74e70",
   "metadata": {},
   "source": [
    "print(z or z) toán tử **or** trả về giá trị True đầu tiên nếu có, nếu không có thì trả về giá trị cuối cùng, kết quả là None"
   ]
  },
  {
   "cell_type": "markdown",
   "id": "001546d1-f6d4-4e2a-84a0-7f1358210003",
   "metadata": {},
   "source": [
    "####  4.3.3 Logical Not"
   ]
  },
  {
   "cell_type": "code",
   "execution_count": 12,
   "id": "f7d11767-4ec5-49d8-8c7c-9b588709b2b2",
   "metadata": {},
   "outputs": [
    {
     "name": "stdout",
     "output_type": "stream",
     "text": [
      "False\n"
     ]
    }
   ],
   "source": [
    " x = True\n",
    " y = False\n",
    " print(not x)"
   ]
  },
  {
   "cell_type": "markdown",
   "id": "aa531bc0-cdf5-49b4-bd60-7406f9bb1ddd",
   "metadata": {},
   "source": [
    "print(not x) toán tử not đảo ngược giá trị của x, kết quả là False"
   ]
  },
  {
   "cell_type": "code",
   "execution_count": 13,
   "id": "4c46a61b-9baf-41b0-8d78-3d611320e898",
   "metadata": {},
   "outputs": [
    {
     "name": "stdout",
     "output_type": "stream",
     "text": [
      "True\n"
     ]
    }
   ],
   "source": [
    "print(not y)"
   ]
  },
  {
   "cell_type": "markdown",
   "id": "1b651665-5feb-4316-b980-caa20d4346df",
   "metadata": {},
   "source": [
    "print(not y) toán tử not đảo ngược giá trị của y, kết quả là True"
   ]
  },
  {
   "cell_type": "code",
   "execution_count": 15,
   "id": "47811d1d-e11d-46ac-8422-c4df90fee633",
   "metadata": {},
   "outputs": [
    {
     "data": {
      "text/plain": [
       "True"
      ]
     },
     "execution_count": 15,
     "metadata": {},
     "output_type": "execute_result"
    }
   ],
   "source": [
    "x = None\n",
    "not x"
   ]
  },
  {
   "cell_type": "markdown",
   "id": "ab751fa1-977c-465b-b6b3-b7e743f76b36",
   "metadata": {},
   "source": [
    "not x đảo ngược giá trị của x (None được coi là False), kết quả là True"
   ]
  },
  {
   "cell_type": "markdown",
   "id": "55f6ad88-ec15-4790-8c35-1b8d4852bd05",
   "metadata": {},
   "source": [
    "###  4.4 Some Functions"
   ]
  },
  {
   "cell_type": "markdown",
   "id": "2a684337-8ec3-44dd-b17c-199e638879cf",
   "metadata": {},
   "source": [
    "### 4.5 Some Constants"
   ]
  },
  {
   "cell_type": "markdown",
   "id": "566b5def-c02d-440e-b06e-9bcf819d477f",
   "metadata": {},
   "source": [
    "### 4.6 Exercise"
   ]
  },
  {
   "cell_type": "markdown",
   "id": "2cd61e11-9889-48c9-8077-7e0ca9a576d7",
   "metadata": {},
   "source": [
    "#### 1. Calculate the remainder of the Euclidean division of 10 by 3."
   ]
  },
  {
   "cell_type": "code",
   "execution_count": 16,
   "id": "1ed98408-cc8f-4fd2-9853-f868a82623fc",
   "metadata": {},
   "outputs": [
    {
     "name": "stdout",
     "output_type": "stream",
     "text": [
      "1\n"
     ]
    }
   ],
   "source": [
    "print(10 % 3)"
   ]
  },
  {
   "cell_type": "markdown",
   "id": "d1e99e78-cb7a-4fb1-9f84-d4e93a3f27ca",
   "metadata": {},
   "source": [
    "####  2. Display the largest common divisor between 6209 and 4435."
   ]
  },
  {
   "cell_type": "code",
   "execution_count": 17,
   "id": "667d52fd-559b-48d2-a757-0e7d1fec8e23",
   "metadata": {},
   "outputs": [
    {
     "name": "stdout",
     "output_type": "stream",
     "text": [
      "887\n"
     ]
    }
   ],
   "source": [
    "import math\n",
    "print(math.gcd(6209, 4435))"
   ]
  },
  {
   "cell_type": "markdown",
   "id": "699f3431-6f16-4f1c-b0ed-55293c08010c",
   "metadata": {},
   "source": [
    "#### 3. Let us consider two objects: a = 18 and b =-4. Test it if:"
   ]
  },
  {
   "cell_type": "code",
   "execution_count": 22,
   "id": "7b46c9db-64af-493a-9ffd-cabed3d0c22e",
   "metadata": {},
   "outputs": [],
   "source": [
    "a = 18\n",
    "b = -4"
   ]
  },
  {
   "cell_type": "code",
   "execution_count": 19,
   "id": "d6a8a7de-9d57-440e-85ed-1a4a5d538e0e",
   "metadata": {},
   "outputs": [
    {
     "name": "stdout",
     "output_type": "stream",
     "text": [
      "False\n"
     ]
    }
   ],
   "source": [
    "print(a < b)"
   ]
  },
  {
   "cell_type": "code",
   "execution_count": 20,
   "id": "cad6dad9-ff3c-4cc7-a903-ff71afd05c50",
   "metadata": {},
   "outputs": [
    {
     "name": "stdout",
     "output_type": "stream",
     "text": [
      "True\n"
     ]
    }
   ],
   "source": [
    "print(a >= b)"
   ]
  },
  {
   "cell_type": "code",
   "execution_count": 21,
   "id": "487ffac3-227c-45cc-986e-3016937759d3",
   "metadata": {},
   "outputs": [
    {
     "name": "stdout",
     "output_type": "stream",
     "text": [
      "True\n"
     ]
    }
   ],
   "source": [
    "print(a != b)"
   ]
  },
  {
   "cell_type": "markdown",
   "id": "cc5d893b-e804-41b3-970f-c649d1de9920",
   "metadata": {},
   "source": [
    "####  4. Let x be the list such as x =[1, 1, 1, 2, 3, 5, 8]. Check whether:"
   ]
  },
  {
   "cell_type": "code",
   "execution_count": 23,
   "id": "b3191295-a5e6-4274-aa02-6da59db3488c",
   "metadata": {},
   "outputs": [],
   "source": [
    "x = [1, 1, 1, 2, 3, 5, 8]"
   ]
  },
  {
   "cell_type": "code",
   "execution_count": 24,
   "id": "a2032753-11ca-43d0-9d50-5355d319c301",
   "metadata": {},
   "outputs": [
    {
     "name": "stdout",
     "output_type": "stream",
     "text": [
      "True\n"
     ]
    }
   ],
   "source": [
    "print(1 in x)"
   ]
  },
  {
   "cell_type": "code",
   "execution_count": 25,
   "id": "a750a9af-e8ff-46dc-b63d-ed4f17c6a39d",
   "metadata": {},
   "outputs": [
    {
     "name": "stdout",
     "output_type": "stream",
     "text": [
      "False\n"
     ]
    }
   ],
   "source": [
    "print(0 in x)"
   ]
  },
  {
   "cell_type": "code",
   "execution_count": 26,
   "id": "fcdc3bf5-e82b-4cd7-8aa1-90604ca32daa",
   "metadata": {},
   "outputs": [
    {
     "name": "stdout",
     "output_type": "stream",
     "text": [
      "False\n"
     ]
    }
   ],
   "source": [
    "print(1 in x and 0 in x)"
   ]
  },
  {
   "cell_type": "code",
   "execution_count": 27,
   "id": "bfc8e723-09de-425f-9466-516f1805952b",
   "metadata": {},
   "outputs": [
    {
     "name": "stdout",
     "output_type": "stream",
     "text": [
      "True\n"
     ]
    }
   ],
   "source": [
    "print(1 in x or 0 in x)"
   ]
  },
  {
   "cell_type": "code",
   "execution_count": 28,
   "id": "52879ba3-8515-4d0a-9e41-f8e7b2918a0f",
   "metadata": {},
   "outputs": [
    {
     "name": "stdout",
     "output_type": "stream",
     "text": [
      "False\n"
     ]
    }
   ],
   "source": [
    "print(not (1 in x or 0 in x))"
   ]
  },
  {
   "cell_type": "markdown",
   "id": "5d4cfb43-04b6-4b11-811f-ca230fa792d4",
   "metadata": {},
   "source": [
    "# KẾT THÚC CHAPTER 4"
   ]
  },
  {
   "cell_type": "code",
   "execution_count": null,
   "id": "dca540f9-7bdd-4a23-b8a2-112ffaf33bf4",
   "metadata": {},
   "outputs": [],
   "source": []
  }
 ],
 "metadata": {
  "kernelspec": {
   "display_name": "Python 3 (ipykernel)",
   "language": "python",
   "name": "python3"
  },
  "language_info": {
   "codemirror_mode": {
    "name": "ipython",
    "version": 3
   },
   "file_extension": ".py",
   "mimetype": "text/x-python",
   "name": "python",
   "nbconvert_exporter": "python",
   "pygments_lexer": "ipython3",
   "version": "3.12.1"
  }
 },
 "nbformat": 4,
 "nbformat_minor": 5
}
