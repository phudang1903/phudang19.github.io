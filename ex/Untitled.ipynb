{
 "cells": [
  {
   "cell_type": "markdown",
   "id": "20f7efdf-7220-46d2-b990-f29ce4f77a4d",
   "metadata": {},
   "source": [
    "# CHAPTER 3"
   ]
  },
  {
   "cell_type": "markdown",
   "id": "cfa6811b-5041-434c-bbe9-8eda3a1be33e",
   "metadata": {},
   "source": [
    "#  Structures"
   ]
  },
  {
   "cell_type": "markdown",
   "id": "5279dae9-5beb-42c9-824a-028b078aba9b",
   "metadata": {},
   "source": [
    "###  3.1 Lists"
   ]
  },
  {
   "cell_type": "code",
   "execution_count": 1,
   "id": "61bd7a68-6993-493f-844b-c8a6da0d88ab",
   "metadata": {},
   "outputs": [
    {
     "name": "stdout",
     "output_type": "stream",
     "text": [
      "['Pascaline', 'Gauthier', 'Xuan', 'Jimmy']\n"
     ]
    }
   ],
   "source": [
    " x = [\"Pascaline\", \"Gauthier\", \"Xuan\", \"Jimmy\"]\n",
    " print(x)"
   ]
  },
  {
   "cell_type": "markdown",
   "id": "995b2e00-3571-4c4b-882e-52f4ac41d912",
   "metadata": {},
   "source": [
    "Tạo danh sách chứa 4 chuỗi và print(x) hiển thị toàn bộ danh sách."
   ]
  },
  {
   "cell_type": "code",
   "execution_count": 2,
   "id": "2ca0b621-3f3a-47f8-b854-c1a22b270968",
   "metadata": {},
   "outputs": [
    {
     "name": "stdout",
     "output_type": "stream",
     "text": [
      "[1, 2, 3, 4, 5]\n"
     ]
    }
   ],
   "source": [
    " y = [1, 2, 3, 4, 5]\n",
    " print(y)"
   ]
  },
  {
   "cell_type": "markdown",
   "id": "ed1416ec-1823-4b2a-aa1f-0e8afaa11d2e",
   "metadata": {},
   "source": [
    "in ra (y) Danh sách chứa số nguyên."
   ]
  },
  {
   "cell_type": "code",
   "execution_count": 3,
   "id": "0dc8d449-aff8-439a-9ff7-b8f5694bdb56",
   "metadata": {},
   "outputs": [
    {
     "name": "stdout",
     "output_type": "stream",
     "text": [
      "['Piketty', 'Thomas', 1971]\n"
     ]
    }
   ],
   "source": [
    " z = [\"Piketty\", \"Thomas\", 1971]\n",
    " print(z)"
   ]
  },
  {
   "cell_type": "markdown",
   "id": "1301177d-6335-41bd-9ac6-00a554691c68",
   "metadata": {},
   "source": [
    "in (z) Danh sách có thể chứa nhiều kiểu dữ liệu khác nhau bao gồm chữ và số"
   ]
  },
  {
   "cell_type": "code",
   "execution_count": 5,
   "id": "17d3842b-80a8-4868-a670-07ce8fa5bfbc",
   "metadata": {},
   "outputs": [
    {
     "name": "stdout",
     "output_type": "stream",
     "text": [
      "[['aaa', 'bbb'], ['Anne', 'Bob', 'Irma', 'John']]\n"
     ]
    }
   ],
   "source": [
    "tweets = [\"aaa\", \"bbb\"]\n",
    "followers = [\"Anne\", \"Bob\", \"Irma\", \"John\"]\n",
    "compte = [tweets, followers]\n",
    "print(compte)"
   ]
  },
  {
   "cell_type": "markdown",
   "id": "c26a057f-1e78-405f-8242-415597cbbb27",
   "metadata": {},
   "source": [
    "Danh sách có thể chứa danh sách con "
   ]
  },
  {
   "cell_type": "markdown",
   "id": "ec18325e-28e2-458b-ae4e-a955b78cc504",
   "metadata": {},
   "source": [
    "#### 3.1.1 Extraction of the Elements"
   ]
  },
  {
   "cell_type": "code",
   "execution_count": 6,
   "id": "71b12a9b-e706-44ca-b96e-7a483cd4ddc9",
   "metadata": {},
   "outputs": [
    {
     "name": "stdout",
     "output_type": "stream",
     "text": [
      "Pascaline\n"
     ]
    }
   ],
   "source": [
    " print(x[0]) # The first element of x"
   ]
  },
  {
   "cell_type": "code",
   "execution_count": 7,
   "id": "51ddfa47-d064-4634-aa77-39a69cb68414",
   "metadata": {},
   "outputs": [
    {
     "name": "stdout",
     "output_type": "stream",
     "text": [
      "Gauthier\n"
     ]
    }
   ],
   "source": [
    " print(x[1]) # The second element of x"
   ]
  },
  {
   "cell_type": "markdown",
   "id": "04305f7a-99ab-4ae8-bdc8-f942bcf5751a",
   "metadata": {},
   "source": [
    "Chỉ số (index) bắt đầu từ 0."
   ]
  },
  {
   "cell_type": "code",
   "execution_count": 8,
   "id": "40b1c5aa-0077-44dc-b629-b56dcb4db46c",
   "metadata": {},
   "outputs": [
    {
     "name": "stdout",
     "output_type": "stream",
     "text": [
      "Jimmy\n"
     ]
    }
   ],
   "source": [
    "print(x[-1]) # The last element of x"
   ]
  },
  {
   "cell_type": "code",
   "execution_count": 9,
   "id": "e030ba73-1ea1-45f7-b4d1-ae61e463e8ac",
   "metadata": {},
   "outputs": [
    {
     "name": "stdout",
     "output_type": "stream",
     "text": [
      "Xuan\n"
     ]
    }
   ],
   "source": [
    " print(x[-2]) # The penultimate element of x"
   ]
  },
  {
   "cell_type": "markdown",
   "id": "ebf636f2-114f-4a0b-beb0-13013ae82200",
   "metadata": {},
   "source": [
    "Dùng chỉ số âm để đếm từ cuối."
   ]
  },
  {
   "cell_type": "code",
   "execution_count": 10,
   "id": "5c29c51e-91e8-4665-aa0e-1e0284ad055e",
   "metadata": {},
   "outputs": [
    {
     "name": "stdout",
     "output_type": "stream",
     "text": [
      "['Gauthier']\n"
     ]
    }
   ],
   "source": [
    "print(x[1:2]) # The first and second elements of x"
   ]
  },
  {
   "cell_type": "markdown",
   "id": "a2789641-88dc-46c1-95ae-e62015f50d0d",
   "metadata": {},
   "source": [
    "Cắt từ index 1 đến trước index 2 (trả về list)."
   ]
  },
  {
   "cell_type": "code",
   "execution_count": 11,
   "id": "eda5a880-2cb1-4e26-b5f9-fd56c48e1beb",
   "metadata": {},
   "outputs": [
    {
     "name": "stdout",
     "output_type": "stream",
     "text": [
      "['Xuan', 'Jimmy']\n"
     ]
    }
   ],
   "source": [
    " print(x[2:]) # From the second element (not included) to the end of x"
   ]
  },
  {
   "cell_type": "code",
   "execution_count": 12,
   "id": "15b0793f-66f0-4b1b-8610-aa6806ca61c9",
   "metadata": {},
   "outputs": [
    {
     "name": "stdout",
     "output_type": "stream",
     "text": [
      "['Pascaline', 'Gauthier']\n"
     ]
    }
   ],
   "source": [
    " print(x[:-2]) # From the first to the penultimate (not included)"
   ]
  },
  {
   "cell_type": "markdown",
   "id": "86eb1d6b-8fe0-47a5-8125-a576d95f388f",
   "metadata": {},
   "source": [
    "x[start:] → từ vị trí start đến hết.\n",
    "\n",
    "x[:-n] → từ đầu đến trước phần tử thứ n tính từ cuối."
   ]
  },
  {
   "cell_type": "code",
   "execution_count": 14,
   "id": "87a7e42f-4020-4806-aac1-1ea4d9697555",
   "metadata": {},
   "outputs": [
    {
     "name": "stdout",
     "output_type": "stream",
     "text": [
      "['Pascaline', 'Xuan']\n"
     ]
    }
   ],
   "source": [
    " print(x[::2]) # Every other element"
   ]
  },
  {
   "cell_type": "markdown",
   "id": "b214427c-7983-4d38-ae64-83157519555a",
   "metadata": {},
   "source": [
    "Tham số thứ 3 là bước nhảy (step) → lấy 1 phần tử, bỏ 1 phần tử."
   ]
  },
  {
   "cell_type": "code",
   "execution_count": 15,
   "id": "b3931e92-fdcf-4398-aa5a-5de4a21a9efe",
   "metadata": {},
   "outputs": [],
   "source": [
    " tweets = [\"aaa\", \"bbb\"]\n",
    " followers = [\"Anne\", \"Bob\", \"Irma\", \"John\"]\n",
    " conuts = [tweets, followers]\n",
    " res = conuts[1][3] # The 4th item of the 2nd item on the list counts"
   ]
  },
  {
   "cell_type": "code",
   "execution_count": 16,
   "id": "05db8517-d5ac-4c1f-89c7-08ae330a66b4",
   "metadata": {},
   "outputs": [
    {
     "name": "stdout",
     "output_type": "stream",
     "text": [
      "2\n"
     ]
    }
   ],
   "source": [
    " print(len(conuts))"
   ]
  },
  {
   "cell_type": "code",
   "execution_count": 17,
   "id": "852d8ad5-524a-45ce-8faa-bc789394293a",
   "metadata": {},
   "outputs": [
    {
     "name": "stdout",
     "output_type": "stream",
     "text": [
      "4\n"
     ]
    }
   ],
   "source": [
    " print(len(conuts[1]))"
   ]
  },
  {
   "cell_type": "markdown",
   "id": "de135283-e8fe-43a4-ab0b-8399b2fb6253",
   "metadata": {},
   "source": [
    "Số lượng phần tử trong danh sách được tính bằng hàm len():"
   ]
  },
  {
   "cell_type": "markdown",
   "id": "a9bef010-f685-4967-a7be-6f8b19dd17be",
   "metadata": {},
   "source": [
    "#### 3.1.2 Modification"
   ]
  },
  {
   "cell_type": "markdown",
   "id": "f9cc7632-2831-4ea3-a6b6-f56e3f095b95",
   "metadata": {},
   "source": [
    "#####  3.1.2.1 Replacement\n"
   ]
  },
  {
   "cell_type": "code",
   "execution_count": 18,
   "id": "cbb14ff0-3e4e-4a19-8258-a00e8d105dfa",
   "metadata": {},
   "outputs": [
    {
     "name": "stdout",
     "output_type": "stream",
     "text": [
      "[1, 3, 5, 7, 9]\n"
     ]
    }
   ],
   "source": [
    " x = [1, 3, 5, 6, 9]\n",
    " x[3] = 7 # Replacing the 4th element\n",
    " print(x)"
   ]
  },
  {
   "cell_type": "markdown",
   "id": "ccadc760-4633-4c5d-8d1b-0e9cdb7c6465",
   "metadata": {},
   "source": [
    "x[3] = 7 → Truy cập phần tử thứ 4 của list x (index = 3) và gán giá trị mới là 7."
   ]
  },
  {
   "cell_type": "markdown",
   "id": "ad52f7f1-5ce4-4451-b2b7-8f134c685e29",
   "metadata": {},
   "source": [
    "#####  3.1.2.2 Adding Elements"
   ]
  },
  {
   "cell_type": "code",
   "execution_count": 20,
   "id": "82f6966d-a43e-4b5a-80c8-880acff6abf1",
   "metadata": {},
   "outputs": [
    {
     "name": "stdout",
     "output_type": "stream",
     "text": [
      "[1, 3, 5, 7, 9, 11]\n"
     ]
    }
   ],
   "source": [
    " x.append(11) # Add value 11 at the end of the list\n",
    " print(x)"
   ]
  },
  {
   "cell_type": "markdown",
   "id": "b2d2076c-0a26-40f8-a0c4-477421366da5",
   "metadata": {},
   "source": [
    "x.append(11) → Thêm giá trị 11 vào cuối danh sách x và print(x) → In ra danh sách sau khi đã thêm 11."
   ]
  },
  {
   "cell_type": "code",
   "execution_count": 21,
   "id": "aa8e137e-8ec8-40c7-a034-daa315905066",
   "metadata": {},
   "outputs": [
    {
     "name": "stdout",
     "output_type": "stream",
     "text": [
      "[1, 3, 5, 7, 9, 11, 13, 15]\n"
     ]
    }
   ],
   "source": [
    " y = [13, 15]\n",
    " x.extend(y)\n",
    " print(x)"
   ]
  },
  {
   "cell_type": "markdown",
   "id": "be8b26d9-7cf7-4625-999d-16d6ce6adfd2",
   "metadata": {},
   "source": [
    "x.extend(y) → Nối toàn bộ phần tử của list y (13, 15) vào cuối danh sách x và print(x) → In ra danh sách x sau khi đã được nối."
   ]
  },
  {
   "cell_type": "markdown",
   "id": "ccaf8a69-cf4d-46c6-a06f-3210d79e5d21",
   "metadata": {},
   "source": [
    "x.extend(y) → Nối toàn bộ phần tử của list y (13, 15) vào cuối danh sách x và print(x) → In ra danh sách x sau khi đã được nối."
   ]
  },
  {
   "cell_type": "markdown",
   "id": "d787ac4d-a618-4c03-abbb-6103c98a7a3f",
   "metadata": {},
   "source": [
    "#####  3.1.2.3 Deleting Elements"
   ]
  },
  {
   "cell_type": "code",
   "execution_count": 23,
   "id": "280687bf-d7df-4785-8465-434977adcb1d",
   "metadata": {},
   "outputs": [
    {
     "name": "stdout",
     "output_type": "stream",
     "text": [
      "[1, 5, 7, 9, 11, 13, 15]\n"
     ]
    }
   ],
   "source": [
    "x.remove(3) # Remove the fourth element\n",
    "print(x)"
   ]
  },
  {
   "cell_type": "markdown",
   "id": "07d9c7cf-52fc-45ed-bb54-c0a99964e363",
   "metadata": {},
   "source": [
    "Để xóa một mục khỏi danh sách"
   ]
  },
  {
   "cell_type": "code",
   "execution_count": 25,
   "id": "97541941-60cd-4a21-9026-6f42c9279541",
   "metadata": {},
   "outputs": [
    {
     "name": "stdout",
     "output_type": "stream",
     "text": [
      "[1, 3, 5, 9]\n"
     ]
    }
   ],
   "source": [
    "x = [1, 3, 5, 6, 9]\n",
    "del x[3] # Remove the fourth element\n",
    "print(x)"
   ]
  },
  {
   "cell_type": "markdown",
   "id": "2722a158-4cbd-4012-a68c-803dd4d4d3f5",
   "metadata": {},
   "source": [
    "del x[3] → Xóa phần tử thứ 4 của list x (giá trị 6) và print(x) → In ra danh sách x sau khi đã xóa."
   ]
  },
  {
   "cell_type": "markdown",
   "id": "0a1d278e-ea3a-4f46-80e0-134b6bd382e0",
   "metadata": {},
   "source": [
    "#####  3.1.2.4 Multiple assignments"
   ]
  },
  {
   "cell_type": "code",
   "execution_count": 2,
   "id": "07f15ba6-4ff2-42bd-959a-229e74c4bf35",
   "metadata": {},
   "outputs": [
    {
     "name": "stdout",
     "output_type": "stream",
     "text": [
      "[1, 3, 5, 7, 9]\n"
     ]
    }
   ],
   "source": [
    " x = [1, 3, 5, 6, 10]\n",
    " x[3:5] = [7, 9] # Replaces 4th and 5th values\n",
    " print(x)"
   ]
  },
  {
   "cell_type": "markdown",
   "id": "7959b205-a5d2-4de7-871f-144729613f8c",
   "metadata": {},
   "source": [
    "x[3:5] = [7, 9] → Thay phần tử thứ 4 và 5 của list x bằng giá trị 7 và 9 và print(x) → In ra danh sách x sau khi đã thay đổi."
   ]
  },
  {
   "cell_type": "code",
   "execution_count": 4,
   "id": "44811639-51ea-420b-af26-523f0c5f1dbd",
   "metadata": {},
   "outputs": [
    {
     "name": "stdout",
     "output_type": "stream",
     "text": [
      "[1, 2, 'a', 'b', 'c', 'd', 4, 5]\n"
     ]
    }
   ],
   "source": [
    "x = [1, 2, 3, 4, 5]\n",
    "x[2:3] = ['a', 'b', 'c', 'd'] # Replaces the 3rd value\n",
    "print(x)"
   ]
  },
  {
   "cell_type": "markdown",
   "id": "f1662fec-9b03-4723-a7bd-df19adba7a10",
   "metadata": {},
   "source": [
    "x[2:3] = ['a', 'b', 'c', 'd'] → Thay phần tử thứ 3 của list x bằng 'a', 'b', 'c', 'd' và print(x) → In ra danh sách x sau khi đã thay đổi."
   ]
  },
  {
   "cell_type": "code",
   "execution_count": 6,
   "id": "3aff27a7-0ee0-48c7-9dc0-e0b22cf0906b",
   "metadata": {},
   "outputs": [
    {
     "name": "stdout",
     "output_type": "stream",
     "text": [
      "[1, 2, 3]\n"
     ]
    }
   ],
   "source": [
    "x = [1, 2, 3, 4, 5]\n",
    "x[3:5] = [] # Removes the 4th and 5th values\n",
    "print(x)"
   ]
  },
  {
   "cell_type": "markdown",
   "id": "7bedf96a-c404-4c40-9632-135e451f7a0d",
   "metadata": {},
   "source": [
    "x[3:5] = [] → Xóa phần tử thứ 4 và 5 của list x và print(x) → In ra danh sách x sau khi đã xóa."
   ]
  },
  {
   "cell_type": "markdown",
   "id": "62be3970-c369-4331-88a9-32cac89c3931",
   "metadata": {},
   "source": [
    "#### 3.1.3 Verifying if a Value is Present"
   ]
  },
  {
   "cell_type": "code",
   "execution_count": 9,
   "id": "1aad3503-44c2-4211-b734-02c2487e19e7",
   "metadata": {},
   "outputs": [
    {
     "name": "stdout",
     "output_type": "stream",
     "text": [
      "True\n"
     ]
    }
   ],
   "source": [
    "x = [1, 2, 3, 4, 5]\n",
    "print(1 in x)"
   ]
  },
  {
   "cell_type": "markdown",
   "id": "751814d5-29f6-43a1-8f4e-803a5b870f7f",
   "metadata": {},
   "source": [
    "print(1 in x) → Kiểm tra xem giá trị 1 có trong list x hay không và in ra True nếu có, False nếu không."
   ]
  },
  {
   "cell_type": "markdown",
   "id": "289bb8bb-8de5-4031-b52d-4d56e8b7e6a8",
   "metadata": {},
   "source": [
    "#### 3.1.4 Copy of List"
   ]
  },
  {
   "cell_type": "code",
   "execution_count": 10,
   "id": "02f939bd-398a-4141-888c-4d2693f84833",
   "metadata": {},
   "outputs": [],
   "source": [
    " x = [1, 2, 3]\n",
    " y = x"
   ]
  },
  {
   "cell_type": "code",
   "execution_count": 11,
   "id": "65b02cca-db56-4844-b0a5-8ecf3044f5ce",
   "metadata": {},
   "outputs": [
    {
     "name": "stdout",
     "output_type": "stream",
     "text": [
      "[0, 2, 3]\n"
     ]
    }
   ],
   "source": [
    " y[0] = 0\n",
    " print(y)"
   ]
  },
  {
   "cell_type": "code",
   "execution_count": 12,
   "id": "2049a8e5-3438-402f-8949-daa05b20ebb5",
   "metadata": {},
   "outputs": [
    {
     "name": "stdout",
     "output_type": "stream",
     "text": [
      "[0, 2, 3]\n"
     ]
    }
   ],
   "source": [
    "print(x)"
   ]
  },
  {
   "cell_type": "markdown",
   "id": "7b7bfca2-e70e-4359-a9e1-cad9cbfb2235",
   "metadata": {},
   "source": [
    "y = x → Gán y tham chiếu đến cùng danh sách với x và y[0] = 0 → Thay phần tử đầu tiên thành 0 và\n",
    "print(y) → In ra danh sách y sau khi đã thay đổi."
   ]
  },
  {
   "cell_type": "code",
   "execution_count": 14,
   "id": "b5c80876-73ef-451a-9383-4abb82920002",
   "metadata": {},
   "outputs": [
    {
     "name": "stdout",
     "output_type": "stream",
     "text": [
      "x :  [1, 2, 3]\n"
     ]
    }
   ],
   "source": [
    "x = [1, 2, 3]\n",
    "y = list(x)\n",
    "y[0] = 0\n",
    "print(\"x : \", x)"
   ]
  },
  {
   "cell_type": "markdown",
   "id": "6726d6ec-934e-4c45-b32e-9f8afefe92e4",
   "metadata": {},
   "source": [
    "y = list(x) → Tạo một bản sao mới của list x và y[0] = 0 → Thay phần tử đầu tiên của y thành 0 (không ảnh hưởng x) và\n",
    "print(\"x : \", x) → In ra danh sách x gốc."
   ]
  },
  {
   "cell_type": "code",
   "execution_count": 15,
   "id": "e6de64d2-46ee-4a09-9e0e-195f5707c098",
   "metadata": {},
   "outputs": [
    {
     "name": "stdout",
     "output_type": "stream",
     "text": [
      "y :  [0, 2, 3]\n"
     ]
    }
   ],
   "source": [
    "print(\"y : \", y)"
   ]
  },
  {
   "cell_type": "markdown",
   "id": "fc9ed7b8-7759-49ce-8452-b6fee5515e46",
   "metadata": {},
   "source": [
    "print(\"y : \", y) → In ra danh sách y sau khi đã thay đổi."
   ]
  },
  {
   "cell_type": "code",
   "execution_count": 17,
   "id": "26cde354-4d9d-4075-b215-5b5f75571dd6",
   "metadata": {},
   "outputs": [
    {
     "name": "stdout",
     "output_type": "stream",
     "text": [
      "x :  [1, 2, 3, 4]\n"
     ]
    }
   ],
   "source": [
    "x = [1, 2, 3, 4]\n",
    "y = x[:2]\n",
    "y[0] = 0\n",
    "print(\"x : \", x)"
   ]
  },
  {
   "cell_type": "code",
   "execution_count": 18,
   "id": "1d80c87f-8660-46bd-be7c-005e4c1c63e6",
   "metadata": {},
   "outputs": [
    {
     "name": "stdout",
     "output_type": "stream",
     "text": [
      "y :  [0, 2]\n"
     ]
    }
   ],
   "source": [
    " print(\"y : \", y)"
   ]
  },
  {
   "cell_type": "markdown",
   "id": "c28e5eb9-82dc-4635-b069-6465ac599a9e",
   "metadata": {},
   "source": [
    "y = x[:2] → Tạo list y là bản sao gồm 2 phần tử đầu của x và y[0] = 0 → Thay phần tử đầu tiên của y thành 0 (không ảnh hưởng x)\n",
    "\n",
    "print(\"x : \", x) → In ra danh sách x gốc và\n",
    "print(\"y : \", y) → In ra danh sách y sau khi đã thay đổi."
   ]
  },
  {
   "cell_type": "markdown",
   "id": "4fffb202-7763-4c2d-b996-75765a7fae58",
   "metadata": {},
   "source": [
    "####  3.1.5 Sorting"
   ]
  },
  {
   "cell_type": "code",
   "execution_count": 20,
   "id": "bad739cc-22c0-4aae-8e3d-2d609c3ab790",
   "metadata": {},
   "outputs": [
    {
     "name": "stdout",
     "output_type": "stream",
     "text": [
      "[1, 2, 3, 4]\n"
     ]
    }
   ],
   "source": [
    "x = [2, 1, 4, 3]\n",
    "x.sort()\n",
    "print(x)"
   ]
  },
  {
   "cell_type": "markdown",
   "id": "b9199798-fba4-4d1c-a881-fabbd2e48e08",
   "metadata": {},
   "source": [
    "x.sort() → Sắp xếp các phần tử của list x theo thứ tự tăng dần và print(x) → In ra danh sách x sau khi đã sắp xếp."
   ]
  },
  {
   "cell_type": "code",
   "execution_count": 22,
   "id": "5f235167-ff5d-408f-beba-c38fccb7b2fa",
   "metadata": {},
   "outputs": [
    {
     "name": "stdout",
     "output_type": "stream",
     "text": [
      "['a', 'a', 'b', 'c']\n"
     ]
    }
   ],
   "source": [
    "x = [\"c\", \"b\", \"a\", \"a\"]\n",
    "x.sort()\n",
    "print(x)"
   ]
  },
  {
   "cell_type": "markdown",
   "id": "affca99b-6342-4288-9470-79b074ae23dd",
   "metadata": {},
   "source": [
    "x.sort() → Sắp xếp các phần tử của list x theo thứ tự chữ cái (alphabetical order) và print(x) → In ra danh sách x sau khi đã sắp xếp."
   ]
  },
  {
   "cell_type": "code",
   "execution_count": 23,
   "id": "904247be-6ea2-453c-89f0-c17e5820ca95",
   "metadata": {},
   "outputs": [
    {
     "name": "stdout",
     "output_type": "stream",
     "text": [
      "['a', 'aa', 'aa', 'aaaaa']\n"
     ]
    }
   ],
   "source": [
    "x = [\"aa\", \"a\", \"aaaaa\", \"aa\"]\n",
    "x.sort(key=len)\n",
    "print(x)"
   ]
  },
  {
   "cell_type": "markdown",
   "id": "b4c1670a-e225-4a56-9ecf-8d5c3923dc6f",
   "metadata": {},
   "source": [
    "x.sort(key=len) → Sắp xếp các phần tử của list x theo độ dài chuỗi (ngắn → dài) và print(x) → In ra danh sách x sau khi đã sắp xếp."
   ]
  },
  {
   "cell_type": "markdown",
   "id": "87e3408c-894c-40dd-a176-f1da4a4e7ed1",
   "metadata": {},
   "source": [
    "### 3.2 Tuples"
   ]
  },
  {
   "cell_type": "code",
   "execution_count": 24,
   "id": "643bb03e-2aa0-4621-981e-638c9581b3c7",
   "metadata": {},
   "outputs": [
    {
     "name": "stdout",
     "output_type": "stream",
     "text": [
      "(1, 4, 9, 16, 25)\n"
     ]
    }
   ],
   "source": [
    " x = 1, 4, 9, 16, 25\n",
    " print(x)"
   ]
  },
  {
   "cell_type": "markdown",
   "id": "2fa4a281-fd3a-48b7-b1ad-4390f5805653",
   "metadata": {},
   "source": [
    "x = 1, 4, 9, 16, 25 → Tạo một tuple gồm các giá trị 1, 4, 9, 16, 25 và print(x) → In ra tuple x."
   ]
  },
  {
   "cell_type": "markdown",
   "id": "7e542622-733d-44f2-af05-e5003d5346cc",
   "metadata": {},
   "source": [
    "#### 3.2.1 Extraction of the Elements"
   ]
  },
  {
   "cell_type": "code",
   "execution_count": 25,
   "id": "a59e918f-75e8-4d5f-88be-da11bdbff043",
   "metadata": {},
   "outputs": [
    {
     "name": "stdout",
     "output_type": "stream",
     "text": [
      "1\n"
     ]
    }
   ],
   "source": [
    "print(x[0])"
   ]
  },
  {
   "cell_type": "markdown",
   "id": "058bd287-07c0-42ed-9001-3ff75e1ef2e0",
   "metadata": {},
   "source": [
    "print(x[0]) → In ra phần tử đầu tiên của tuple x, giá trị là 1"
   ]
  },
  {
   "cell_type": "markdown",
   "id": "6f0c3a87-5488-4826-bda7-feeacee829e4",
   "metadata": {},
   "source": [
    "####  3.2.2 Modification"
   ]
  },
  {
   "cell_type": "code",
   "execution_count": 26,
   "id": "f5c8365e-c3cc-4d6a-9d62-b2923a6205f9",
   "metadata": {},
   "outputs": [
    {
     "ename": "TypeError",
     "evalue": "'tuple' object does not support item assignment",
     "output_type": "error",
     "traceback": [
      "\u001b[31m---------------------------------------------------------------------------\u001b[39m",
      "\u001b[31mTypeError\u001b[39m                                 Traceback (most recent call last)",
      "\u001b[36mCell\u001b[39m\u001b[36m \u001b[39m\u001b[32mIn[26]\u001b[39m\u001b[32m, line 1\u001b[39m\n\u001b[32m----> \u001b[39m\u001b[32m1\u001b[39m \u001b[43mx\u001b[49m\u001b[43m[\u001b[49m\u001b[32;43m0\u001b[39;49m\u001b[43m]\u001b[49m = \u001b[32m1\u001b[39m\n",
      "\u001b[31mTypeError\u001b[39m: 'tuple' object does not support item assignment"
     ]
    }
   ],
   "source": [
    "x[0] = 1"
   ]
  },
  {
   "cell_type": "markdown",
   "id": "12cdb028-4279-4b45-8b8c-3d9a315ea6fb",
   "metadata": {},
   "source": [
    "x[0] = 1 → Cố gắng thay đổi phần tử đầu tiên của tuple x, sẽ báo lỗi vì tuple là immutable (không thể thay đổi sau khi tạo)."
   ]
  },
  {
   "cell_type": "code",
   "execution_count": 28,
   "id": "157ab0ac-1e02-45e5-b7d7-532d837eabfe",
   "metadata": {},
   "outputs": [
    {
     "name": "stdout",
     "output_type": "stream",
     "text": [
      "((1, 4, 9, 16), (1, 8, 26, 64))\n"
     ]
    }
   ],
   "source": [
    " x = ((1, 4, 9, 16), (1, 8, 26, 64))\n",
    " print(x)"
   ]
  },
  {
   "cell_type": "markdown",
   "id": "5eae8cd3-102d-479b-807c-0fda5b6d5fe2",
   "metadata": {},
   "source": [
    "x = ((1, 4, 9, 16), (1, 8, 26, 64)) → Tạo một tuple lồng nhau gồm 2 tuple con và print(x) → In ra tuple x."
   ]
  },
  {
   "cell_type": "markdown",
   "id": "0e2cc7db-4c1c-4d56-99b2-b79386cce0cd",
   "metadata": {},
   "source": [
    "###  3.3 Sets"
   ]
  },
  {
   "cell_type": "code",
   "execution_count": 33,
   "id": "bb50bf02-1aee-4fda-82e4-67d01bc5fb6f",
   "metadata": {},
   "outputs": [
    {
     "name": "stdout",
     "output_type": "stream",
     "text": [
      "{'Aix-en-Provence', 'Nice', 'Marseille', 'Rennes'}\n"
     ]
    }
   ],
   "source": [
    " new_set = set({\"Marseille\", \"Aix-en-Provence\",\n",
    "                 \"Nice\", \"Rennes\"})\n",
    " print(new_set)"
   ]
  },
  {
   "cell_type": "markdown",
   "id": "4e9cb77e-fa72-4732-a67c-694b05aece50",
   "metadata": {},
   "source": [
    "new_set = set({\"Marseille\", \"Aix-en-Provence\", \"Nice\", \"Rennes\"}) → Tạo một set chứa các thành phố (các giá trị duy nhất, không theo thứ tự) và print(new_set) → In ra set new_set."
   ]
  },
  {
   "cell_type": "code",
   "execution_count": 35,
   "id": "76e637b3-3525-4b7c-ab73-3f54f86007d4",
   "metadata": {},
   "outputs": [
    {
     "name": "stdout",
     "output_type": "stream",
     "text": [
      "{'Aix-en-Provence', 'Nice', 'Marseille', 'Rennes'}\n"
     ]
    }
   ],
   "source": [
    "new_set = {\"Marseille\", \"Aix-en-Provence\", \"Nice\", \"Rennes\"}\n",
    "print(new_set)"
   ]
  },
  {
   "cell_type": "markdown",
   "id": "87911d0d-57ad-48c9-9b21-a39c96fb74db",
   "metadata": {},
   "source": [
    "new_set = {\"Marseille\", \"Aix-en-Provence\", \"Nice\", \"Rennes\"} → Tạo một set chứa các thành phố và print(new_set) → In ra set new_set."
   ]
  },
  {
   "cell_type": "code",
   "execution_count": 40,
   "id": "a5b2d609-dc03-4286-beaa-34a73782411e",
   "metadata": {},
   "outputs": [
    {
     "name": "stdout",
     "output_type": "stream",
     "text": [
      "<class 'dict'>\n"
     ]
    }
   ],
   "source": [
    "empty_set = {}\n",
    "print(type(empty_set))"
   ]
  },
  {
   "cell_type": "markdown",
   "id": "17cc6770-9628-4084-ac91-23ddb58bef43",
   "metadata": {},
   "source": [
    "empty_set = {} → Tạo một dictionary rỗng, không phải set và type(empty_set) → Kiểm tra kiểu dữ liệu của empty_set, kết quả là <class 'dict'>"
   ]
  },
  {
   "cell_type": "code",
   "execution_count": 37,
   "id": "8f84762f-e9fd-42e7-8c59-dd972ae52c34",
   "metadata": {},
   "outputs": [
    {
     "name": "stdout",
     "output_type": "stream",
     "text": [
      "<class 'set'>\n"
     ]
    }
   ],
   "source": [
    "empty_set = set()\n",
    "print(type(empty_set))"
   ]
  },
  {
   "cell_type": "markdown",
   "id": "1f5fbc36-1f04-4a36-80ef-af50910a7832",
   "metadata": {},
   "source": [
    "empty_set = set() → Tạo một set rỗng và print(type(empty_set)) → In ra kiểu dữ liệu của empty_set, kết quả là <class 'set'>."
   ]
  },
  {
   "cell_type": "code",
   "execution_count": 42,
   "id": "fc417c10-b408-478a-a4f7-aa1bb2215744",
   "metadata": {},
   "outputs": [
    {
     "name": "stdout",
     "output_type": "stream",
     "text": [
      "{'Aix-en-Provence', 'Nice', 'Marseille', 'Rennes'}\n"
     ]
    }
   ],
   "source": [
    "new_set = set({\"Marseille\", \"Aix-en-Provence\", \"Nice\", \"Marseille\", \"Rennes\"})\n",
    "print(new_set)"
   ]
  },
  {
   "cell_type": "markdown",
   "id": "bfe9667a-a770-4eb7-b213-6d141ffd1f08",
   "metadata": {},
   "source": [
    "new_set = set({\"Marseille\", \"Aix-en-Provence\", \"Nice\", \"Marseille\", \"Rennes\"}) → Tạo một set từ các giá trị, tự động loại bỏ các giá trị trùng lặp và \n",
    "print(new_set) → In ra set new_set chỉ chứa các giá trị duy nhất."
   ]
  },
  {
   "cell_type": "code",
   "execution_count": 43,
   "id": "d6dd4e8a-079d-4477-b231-ec68dece4e43",
   "metadata": {},
   "outputs": [
    {
     "name": "stdout",
     "output_type": "stream",
     "text": [
      "4\n"
     ]
    }
   ],
   "source": [
    "print(len(new_set))"
   ]
  },
  {
   "cell_type": "markdown",
   "id": "6b164edb-c39d-4663-9f25-6ca0f97e6e1b",
   "metadata": {},
   "source": [
    "print(len(new_set)) → In ra số lượng phần tử trong set new_set."
   ]
  },
  {
   "cell_type": "markdown",
   "id": "b42a5734-db3f-4129-b20b-6e1c2f63ea71",
   "metadata": {},
   "source": [
    "#### 3.3.1 Modifications"
   ]
  },
  {
   "cell_type": "markdown",
   "id": "6763096b-a5d6-4b49-b553-270cec5a972a",
   "metadata": {},
   "source": [
    "##### 3.3.1.1 Adding Elements"
   ]
  },
  {
   "cell_type": "code",
   "execution_count": 44,
   "id": "3666bb5a-bc51-48cf-83db-852e6b1c841c",
   "metadata": {},
   "outputs": [
    {
     "name": "stdout",
     "output_type": "stream",
     "text": [
      "{'Aix-en-Provence', 'Nice', 'Marseille', 'Toulon', 'Rennes'}\n"
     ]
    }
   ],
   "source": [
    " new_set.add(\"Toulon\")\n",
    " print(new_set)"
   ]
  },
  {
   "cell_type": "markdown",
   "id": "8dfe609f-890f-4e17-9779-119eb74f3661",
   "metadata": {},
   "source": [
    "new_set.add(\"Toulon\") → Thêm phần tử \"Toulon\" vào set new_set và print(new_set) → In ra set new_set sau khi thêm."
   ]
  },
  {
   "cell_type": "markdown",
   "id": "51cce911-efb9-4837-870b-3cd3cb265e80",
   "metadata": {},
   "source": [
    "##### 3.3.1.2 Deletion"
   ]
  },
  {
   "cell_type": "code",
   "execution_count": 46,
   "id": "f044d071-46fd-419f-9730-661c78e38961",
   "metadata": {},
   "outputs": [
    {
     "name": "stdout",
     "output_type": "stream",
     "text": [
      "{'Aix-en-Provence', 'Nice', 'Marseille', 'Rennes'}\n"
     ]
    }
   ],
   "source": [
    " new_set.remove(\"Toulon\")\n",
    " print(new_set)"
   ]
  },
  {
   "cell_type": "markdown",
   "id": "78a3c12d-de9b-44e4-8cda-533ffc8071f2",
   "metadata": {},
   "source": [
    "new_set.remove(\"Toulon\") → Xóa phần tử \"Toulon\" khỏi set new_set và print(new_set) → In ra set new_set sau khi xóa."
   ]
  },
  {
   "cell_type": "code",
   "execution_count": 49,
   "id": "7b7aac86-64cf-447f-a4b8-0b03d88589ee",
   "metadata": {},
   "outputs": [
    {
     "ename": "KeyError",
     "evalue": "'Toulon'",
     "output_type": "error",
     "traceback": [
      "\u001b[31m---------------------------------------------------------------------------\u001b[39m",
      "\u001b[31mKeyError\u001b[39m                                  Traceback (most recent call last)",
      "\u001b[36mCell\u001b[39m\u001b[36m \u001b[39m\u001b[32mIn[49]\u001b[39m\u001b[32m, line 1\u001b[39m\n\u001b[32m----> \u001b[39m\u001b[32m1\u001b[39m \u001b[43mnew_set\u001b[49m\u001b[43m.\u001b[49m\u001b[43mremove\u001b[49m\u001b[43m(\u001b[49m\u001b[33;43m\"\u001b[39;49m\u001b[33;43mToulon\u001b[39;49m\u001b[33;43m\"\u001b[39;49m\u001b[43m)\u001b[49m\n",
      "\u001b[31mKeyError\u001b[39m: 'Toulon'"
     ]
    }
   ],
   "source": [
    "new_set.remove(\"Toulon\")"
   ]
  },
  {
   "cell_type": "markdown",
   "id": "7ebc46f9-5249-49e2-9611-7fbcc2001261",
   "metadata": {},
   "source": [
    "`new_set.remove(\"Toulon\")` → Cố gắng xóa phần tử `\"Toulon\"` khỏi set `new_set`; nếu `\"Toulon\"` không có trong set, Python sẽ báo **KeyError**."
   ]
  },
  {
   "cell_type": "code",
   "execution_count": 50,
   "id": "46971152-9f3d-4ccc-9ede-b8db58ea82ae",
   "metadata": {},
   "outputs": [
    {
     "name": "stdout",
     "output_type": "stream",
     "text": [
      "{'Aix-en-Provence', 'Nice', 'Marseille', 'Rennes'}\n"
     ]
    }
   ],
   "source": [
    "print(new_set)"
   ]
  },
  {
   "cell_type": "markdown",
   "id": "7d26f8aa-a6a5-403e-9c47-5174b26d258f",
   "metadata": {},
   "source": [
    "`print(new_set)` → In ra nội dung hiện tại của set `new_set`."
   ]
  },
  {
   "cell_type": "markdown",
   "id": "b2d8687c-6f1b-444b-af3c-735e22361dfa",
   "metadata": {},
   "source": [
    "####  3.3.2 Belonging test"
   ]
  },
  {
   "cell_type": "code",
   "execution_count": 51,
   "id": "c627770b-5899-4bcc-ab9c-2c50d3a52899",
   "metadata": {},
   "outputs": [
    {
     "name": "stdout",
     "output_type": "stream",
     "text": [
      "True\n"
     ]
    }
   ],
   "source": [
    "print(\"Marseille\" in new_set)"
   ]
  },
  {
   "cell_type": "code",
   "execution_count": 52,
   "id": "ce04f3ba-5736-4863-8bfd-926e2f399d3b",
   "metadata": {},
   "outputs": [
    {
     "name": "stdout",
     "output_type": "stream",
     "text": [
      "False\n"
     ]
    }
   ],
   "source": [
    "print(\"Paris\" in new_set)"
   ]
  },
  {
   "cell_type": "markdown",
   "id": "3cd6a2e3-2fc1-4191-9062-0d2d2c366470",
   "metadata": {},
   "source": [
    "`print(\"Marseille\" in new_set)` → Kiểm tra xem `\"Marseille\"` có trong set `new_set` hay không, in ra `True` hoặc `False` \n",
    "\n",
    "`print(\"Paris\" in new_set)` → Kiểm tra xem `\"Paris\"` có trong set `new_set` hay không, in ra `True` hoặc `False`.\n"
   ]
  },
  {
   "cell_type": "markdown",
   "id": "321bd092-781d-4893-bdc0-2346bf778a51",
   "metadata": {},
   "source": [
    "#### 3.3.3 Copying a Set"
   ]
  },
  {
   "cell_type": "code",
   "execution_count": 54,
   "id": "86299de7-de9c-405c-883f-31b0ee65edea",
   "metadata": {},
   "outputs": [
    {
     "name": "stdout",
     "output_type": "stream",
     "text": [
      "y :  {'Aix-en-Provence', 'Nice', 'Marseille', 'Toulon'}\n"
     ]
    }
   ],
   "source": [
    " new_set = set({\"Marseille\", \"Aix-en-Provence\", \"Nice\"})\n",
    " y = new_set.copy()\n",
    " y.add(\"Toulon\")\n",
    " print(\"y : \", y)"
   ]
  },
  {
   "cell_type": "markdown",
   "id": "961962e6-6c25-480d-92f9-ce94a0f3fca3",
   "metadata": {},
   "source": [
    "y = new_set.copy() → Tạo một bản sao của set new_set và\n",
    "y.add(\"Toulon\") → Thêm \"Toulon\" vào set y và\n",
    "print(\"y : \", y) → In ra set y sau khi thêm."
   ]
  },
  {
   "cell_type": "code",
   "execution_count": 3,
   "id": "186ecc23-854a-47fa-9829-491aba65c385",
   "metadata": {},
   "outputs": [
    {
     "name": "stdout",
     "output_type": "stream",
     "text": [
      "set :  {'Nice', 'Marseille', 'Aix-en-Provence'}\n"
     ]
    }
   ],
   "source": [
    "print(\"set : \", new_set)"
   ]
  },
  {
   "cell_type": "markdown",
   "id": "25f0209c-ec76-45ea-bf3b-fd0d342ed545",
   "metadata": {},
   "source": [
    "`print(\"set : \", new_set)` → In ra set gốc `new_set`, không bị ảnh hưởng bởi các thay đổi trên `y`."
   ]
  },
  {
   "cell_type": "markdown",
   "id": "27e79412-c14a-4d18-aa69-a6efd8701f3d",
   "metadata": {},
   "source": [
    "####  3.3.4 Conversion to a List"
   ]
  },
  {
   "cell_type": "code",
   "execution_count": 4,
   "id": "13516f3a-07a6-42e5-be14-fca896b28dff",
   "metadata": {},
   "outputs": [
    {
     "name": "stdout",
     "output_type": "stream",
     "text": [
      "['Marseille', 'Aix-en-Provence', 'Marseille', 'Marseille']\n"
     ]
    }
   ],
   "source": [
    " my_list = [\"Marseille\", \"Aix-en-Provence\", \"Marseille\", \"Marseille\"]\n",
    " print(my_list)"
   ]
  },
  {
   "cell_type": "markdown",
   "id": "718e99b1-3b2a-4205-92a8-b31bccbdbe55",
   "metadata": {},
   "source": [
    "my_list = [\"Marseille\", \"Aix-en-Provence\", \"Marseille\", \"Marseille\"] → Tạo một list chứa các phần tử, có thể trùng nhau và print(my_list) → In ra danh sách my_list."
   ]
  },
  {
   "cell_type": "code",
   "execution_count": 5,
   "id": "0a3b0f40-19bf-4935-9e09-145df7abf67a",
   "metadata": {},
   "outputs": [
    {
     "name": "stdout",
     "output_type": "stream",
     "text": [
      "{'Marseille', 'Aix-en-Provence'}\n"
     ]
    }
   ],
   "source": [
    " my_set = set(my_list)\n",
    " print(my_set)"
   ]
  },
  {
   "cell_type": "markdown",
   "id": "9dc235fb-2a2a-4963-9a43-51042a10189b",
   "metadata": {},
   "source": [
    "`my_set = set(my_list)` → Chuyển list `my_list` thành **set**, tự động loại bỏ các giá trị trùng lặp **và** `print(my_set)` → In ra set `my_set` chỉ chứa các phần tử **duy nhất**.\n"
   ]
  },
  {
   "cell_type": "code",
   "execution_count": 6,
   "id": "60372424-c383-404e-9d83-a331f746e04a",
   "metadata": {},
   "outputs": [
    {
     "name": "stdout",
     "output_type": "stream",
     "text": [
      "['Marseille', 'Aix-en-Provence']\n"
     ]
    }
   ],
   "source": [
    " my_new_list = list(my_set)\n",
    " print(my_new_list)"
   ]
  },
  {
   "cell_type": "markdown",
   "id": "b98a5d5d-e713-432e-874a-423f8856f8ad",
   "metadata": {},
   "source": [
    "`my_new_list = list(my_set)` → Chuyển set `my_set` trở lại thành **list** **và** `print(my_new_list)` → In ra danh sách `my_new_list` gồm các phần tử duy nhất từ `my_list`.\n"
   ]
  },
  {
   "cell_type": "markdown",
   "id": "3cc5b944-bf14-480b-9f4e-abe35849e7e5",
   "metadata": {},
   "source": [
    "### 3.4 Dictionaries"
   ]
  },
  {
   "cell_type": "code",
   "execution_count": 8,
   "id": "6a99cecf-e6b4-401c-be3d-c5b02677ee2b",
   "metadata": {},
   "outputs": [
    {
     "name": "stdout",
     "output_type": "stream",
     "text": [
      "<class 'dict'>\n"
     ]
    }
   ],
   "source": [
    "empty_dict = {}\n",
    "print(type(empty_dict))"
   ]
  },
  {
   "cell_type": "markdown",
   "id": "c20d53bd-9a9e-48b1-8ace-ac0d3a8c8de2",
   "metadata": {},
   "source": [
    "`empty_dict = {}` → Tạo một **dictionary rỗng** **và** `print(type(empty_dict))` → In ra kiểu dữ liệu của `empty_dict`, kết quả là `<class 'dict'>`.\n"
   ]
  },
  {
   "cell_type": "code",
   "execution_count": 9,
   "id": "210cb264-d3c3-48b0-b19c-4a67bb5f1d7f",
   "metadata": {},
   "outputs": [
    {
     "name": "stdout",
     "output_type": "stream",
     "text": [
      "{'nom': 'Kyrie', 'prenom': 'John', 'naissance': 1992, 'equipes': ['Cleveland', 'Boston']}\n"
     ]
    }
   ],
   "source": [
    " my_dict = { \"nom\": \"Kyrie\",\n",
    " \"prenom\": \"John\",\n",
    " \"naissance\": 1992,\n",
    " \"equipes\": [\"Cleveland\", \"Boston\"]}\n",
    " print(my_dict)"
   ]
  },
  {
   "cell_type": "markdown",
   "id": "ddc43dd3-7a1d-485d-a3bf-d01b6a3799b8",
   "metadata": {},
   "source": [
    "`my_dict = { \"nom\": \"Kyrie\", \"prenom\": \"John\", \"naissance\": 1992, \"equipes\": [\"Cleveland\", \"Boston\"]}` → Tạo một **dictionary** với các cặp key-value **và**\n",
    "`print(my_dict)` → In ra dictionary `my_dict`.\n"
   ]
  },
  {
   "cell_type": "code",
   "execution_count": 10,
   "id": "40362cf2-3d9d-4889-b690-7cecb1322313",
   "metadata": {},
   "outputs": [
    {
     "name": "stdout",
     "output_type": "stream",
     "text": [
      "{'Julien-Yacine': 'Data-scientist', 'Sonia': 'Director'}\n"
     ]
    }
   ],
   "source": [
    " x = dict([(\"Julien-Yacine\", \"Data-scientist\"),\n",
    " (\"Sonia\", \"Director\")])\n",
    " print(x)"
   ]
  },
  {
   "cell_type": "markdown",
   "id": "634b7ef5-1087-4b51-8479-14a7abe54b75",
   "metadata": {},
   "source": [
    "`x = dict([(\"Julien-Yacine\", \"Data-scientist\"), (\"Sonia\", \"Director\")])` → Tạo một **dictionary** từ danh sách các tuple key-value **và**\n",
    "`print(x)` → In ra dictionary `x`.\n"
   ]
  },
  {
   "cell_type": "markdown",
   "id": "913c692d-6d8a-43a9-87fe-fee323baebc5",
   "metadata": {},
   "source": [
    "#### 3.4.1 Extraction of the Elements"
   ]
  },
  {
   "cell_type": "code",
   "execution_count": 11,
   "id": "ff066748-608c-4e84-b2b1-46414cf2a90d",
   "metadata": {},
   "outputs": [
    {
     "name": "stdout",
     "output_type": "stream",
     "text": [
      "John\n"
     ]
    }
   ],
   "source": [
    "print(my_dict[\"prenom\"])"
   ]
  },
  {
   "cell_type": "markdown",
   "id": "ef581a3b-445f-4892-9c57-089202bb6406",
   "metadata": {},
   "source": [
    "`print(my_dict[\"prenom\"])` → Truy xuất giá trị tương ứng với key `\"prenom\"` trong dictionary `my_dict` và in ra (`John`).\n"
   ]
  },
  {
   "cell_type": "code",
   "execution_count": 12,
   "id": "049cc791-dc9c-454e-b058-6fbdd8840cd0",
   "metadata": {},
   "outputs": [
    {
     "name": "stdout",
     "output_type": "stream",
     "text": [
      "['Cleveland', 'Boston']\n"
     ]
    }
   ],
   "source": [
    "print(my_dict[\"equipes\"])"
   ]
  },
  {
   "cell_type": "markdown",
   "id": "089b9d48-f9d1-4c37-a04a-b12351a41822",
   "metadata": {},
   "source": [
    "`print(my_dict[\"equipes\"])` → Truy xuất giá trị tương ứng với key `\"equipes\"` trong dictionary `my_dict` và in ra (list `['Cleveland', 'Boston']`).\n"
   ]
  },
  {
   "cell_type": "code",
   "execution_count": 13,
   "id": "ccef5441-5d96-495f-a69b-c967c49df743",
   "metadata": {},
   "outputs": [
    {
     "ename": "KeyError",
     "evalue": "'age'",
     "output_type": "error",
     "traceback": [
      "\u001b[31m---------------------------------------------------------------------------\u001b[39m",
      "\u001b[31mKeyError\u001b[39m                                  Traceback (most recent call last)",
      "\u001b[36mCell\u001b[39m\u001b[36m \u001b[39m\u001b[32mIn[13]\u001b[39m\u001b[32m, line 1\u001b[39m\n\u001b[32m----> \u001b[39m\u001b[32m1\u001b[39m \u001b[38;5;28mprint\u001b[39m(\u001b[43mmy_dict\u001b[49m\u001b[43m[\u001b[49m\u001b[33;43m\"\u001b[39;49m\u001b[33;43mage\u001b[39;49m\u001b[33;43m\"\u001b[39;49m\u001b[43m]\u001b[49m)\n",
      "\u001b[31mKeyError\u001b[39m: 'age'"
     ]
    }
   ],
   "source": [
    " print(my_dict[\"age\"])"
   ]
  },
  {
   "cell_type": "markdown",
   "id": "3945de5e-1ddc-4d14-8260-5117dc93e835",
   "metadata": {},
   "source": [
    "`print(my_dict[\"age\"])` → Cố gắng truy xuất giá trị của key `\"age\"` trong dictionary `my_dict`; vì key này không tồn tại, Python sẽ báo **KeyError**.\n"
   ]
  },
  {
   "cell_type": "code",
   "execution_count": 14,
   "id": "c96f5af8-caae-4b86-9b8f-842e992c08f4",
   "metadata": {},
   "outputs": [
    {
     "name": "stdout",
     "output_type": "stream",
     "text": [
      "True\n"
     ]
    }
   ],
   "source": [
    " print(\"prenom\" in my_dict)"
   ]
  },
  {
   "cell_type": "code",
   "execution_count": 16,
   "id": "cd2847f1-e2d6-4398-824c-4bc6f6a4ec3e",
   "metadata": {},
   "outputs": [
    {
     "name": "stdout",
     "output_type": "stream",
     "text": [
      "False\n"
     ]
    }
   ],
   "source": [
    "print(\"age\" in my_dict)"
   ]
  },
  {
   "cell_type": "markdown",
   "id": "e7c767fe-8d11-4721-925f-cb56859fbbd0",
   "metadata": {},
   "source": [
    "`print(\"prenom\" in my_dict)` → Kiểm tra xem key `\"prenom\"` có trong dictionary `my_dict` hay không, in ra `True` hoặc `False`\n",
    "\n",
    "`print(\"age\" in my_dict)` → Kiểm tra xem key `\"age\"` có trong dictionary `my_dict` hay không, in ra `True` hoặc `False`.\n"
   ]
  },
  {
   "cell_type": "code",
   "execution_count": 17,
   "id": "1900f4c2-904c-4a91-af7d-45311dae3768",
   "metadata": {},
   "outputs": [
    {
     "name": "stdout",
     "output_type": "stream",
     "text": [
      "John\n"
     ]
    }
   ],
   "source": [
    "print(my_dict.get(\"prenom\"))"
   ]
  },
  {
   "cell_type": "code",
   "execution_count": 18,
   "id": "063de3e3-a20a-4bbe-8322-7cc6209b5e80",
   "metadata": {},
   "outputs": [
    {
     "name": "stdout",
     "output_type": "stream",
     "text": [
      "None\n"
     ]
    }
   ],
   "source": [
    "print(my_dict.get(\"age\"))"
   ]
  },
  {
   "cell_type": "markdown",
   "id": "c3222245-d479-4fdc-bd41-c3d7c063e942",
   "metadata": {},
   "source": [
    "`print(my_dict.get(\"prenom\"))` → Lấy giá trị của key `\"prenom\"` trong `my_dict`, nếu không tồn tại trả về `None` (**John**).\n",
    "\n",
    "`print(my_dict.get(\"age\"))` → Lấy giá trị của key `\"age\"` trong `my_dict`, vì key không tồn tại nên trả về `None`.\n"
   ]
  },
  {
   "cell_type": "markdown",
   "id": "67204c87-0a20-47b9-ab30-6dfcd6c262a5",
   "metadata": {},
   "source": [
    "#### 3.4.2 Keys and values"
   ]
  },
  {
   "cell_type": "code",
   "execution_count": 21,
   "id": "63dc41db-c0ab-4b70-b067-dfe2f5091193",
   "metadata": {},
   "outputs": [
    {
     "name": "stdout",
     "output_type": "stream",
     "text": [
      "dict_keys(['nom', 'prenom', 'naissance', 'equipes'])\n"
     ]
    }
   ],
   "source": [
    "the_keys = my_dict.keys()\n",
    "print(the_keys)"
   ]
  },
  {
   "cell_type": "markdown",
   "id": "f843e637-e87b-4728-a287-db35a373c076",
   "metadata": {},
   "source": [
    "`the_keys = my_dict.keys()` → Lấy tất cả các **key** của dictionary `my_dict` dưới dạng `dict_keys` **và**\n",
    "`print(the_keys)` → In ra danh sách các key.\n"
   ]
  },
  {
   "cell_type": "code",
   "execution_count": 22,
   "id": "9dca4f39-33ca-4125-8a29-bf65d1cd5efe",
   "metadata": {},
   "outputs": [
    {
     "name": "stdout",
     "output_type": "stream",
     "text": [
      "<class 'dict_keys'>\n"
     ]
    }
   ],
   "source": [
    " print(type(the_keys))"
   ]
  },
  {
   "cell_type": "markdown",
   "id": "f4cb7ce8-7ed6-4bec-9990-e1ffe9200878",
   "metadata": {},
   "source": [
    "`print(type(the_keys))` → In ra kiểu dữ liệu của `the_keys`, kết quả là `<class 'dict_keys'>`.\n"
   ]
  },
  {
   "cell_type": "code",
   "execution_count": 24,
   "id": "6a8bf582-5bce-4920-8e0e-c655097ee266",
   "metadata": {},
   "outputs": [
    {
     "name": "stdout",
     "output_type": "stream",
     "text": [
      "['nom', 'prenom', 'naissance', 'equipes']\n"
     ]
    }
   ],
   "source": [
    "the_keys_list = list(the_keys)\n",
    "print(the_keys_list)"
   ]
  },
  {
   "cell_type": "markdown",
   "id": "7579bb01-09b2-46da-ba2a-8c7f5c3de5ea",
   "metadata": {},
   "source": [
    "`the_keys_list = list(the_keys)` → Chuyển `dict_keys` thành **list** **và**\n",
    "`print(the_keys_list)` → In ra danh sách các key của dictionary.\n"
   ]
  },
  {
   "cell_type": "code",
   "execution_count": 25,
   "id": "88d29b85-17ec-4e7d-9aae-de03907ae81d",
   "metadata": {},
   "outputs": [
    {
     "name": "stdout",
     "output_type": "stream",
     "text": [
      "dict_values(['Kyrie', 'John', 1992, ['Cleveland', 'Boston']])\n"
     ]
    }
   ],
   "source": [
    " the_values = my_dict.values()\n",
    " print(the_values)"
   ]
  },
  {
   "cell_type": "markdown",
   "id": "247403c5-e95b-4c2d-aa40-3b3d8667da18",
   "metadata": {},
   "source": [
    "`the_values = my_dict.values()` → Lấy tất cả **giá trị** của dictionary `my_dict` dưới dạng `dict_values` **và**\n",
    "`print(the_values)` → In ra danh sách các giá trị.\n"
   ]
  },
  {
   "cell_type": "code",
   "execution_count": 26,
   "id": "4bb2086f-6f73-4717-b5e6-fb06e6319c6e",
   "metadata": {},
   "outputs": [
    {
     "name": "stdout",
     "output_type": "stream",
     "text": [
      "<class 'dict_values'>\n"
     ]
    }
   ],
   "source": [
    " print(type(the_values))"
   ]
  },
  {
   "cell_type": "markdown",
   "id": "fbf10c3c-f7cf-44a5-afaa-f2ee1cf12b52",
   "metadata": {},
   "source": [
    "`print(type(the_values))` → In ra kiểu dữ liệu của `the_values`, kết quả là `<class 'dict_values'>`.\n"
   ]
  },
  {
   "cell_type": "code",
   "execution_count": 27,
   "id": "70a8e9cc-25c3-49ce-91e6-c2018d60ff79",
   "metadata": {},
   "outputs": [
    {
     "name": "stdout",
     "output_type": "stream",
     "text": [
      "dict_items([('nom', 'Kyrie'), ('prenom', 'John'), ('naissance', 1992), ('equipes', ['Cleveland', 'Boston'])])\n"
     ]
    }
   ],
   "source": [
    " the_items = my_dict.items()\n",
    " print(the_items)"
   ]
  },
  {
   "cell_type": "markdown",
   "id": "48e74b05-4208-4e05-a3b8-6fef9e4d2235",
   "metadata": {},
   "source": [
    "`the_items = my_dict.items()` → Lấy tất cả **cặp key-value** của dictionary `my_dict` dưới dạng `dict_items` **và**\n",
    "`print(the_items)` → In ra danh sách các cặp key-value.\n"
   ]
  },
  {
   "cell_type": "code",
   "execution_count": 28,
   "id": "66f998f8-e29a-4381-8317-c9bfaf544167",
   "metadata": {},
   "outputs": [
    {
     "name": "stdout",
     "output_type": "stream",
     "text": [
      "<class 'dict_items'>\n"
     ]
    }
   ],
   "source": [
    " print(type(the_items))"
   ]
  },
  {
   "cell_type": "markdown",
   "id": "3a5ee4ad-db46-4d78-8706-df7b045b1e0d",
   "metadata": {},
   "source": [
    "`print(type(the_items))` → In ra kiểu dữ liệu của `the_items`, kết quả là `<class 'dict_items'>`.\n"
   ]
  },
  {
   "cell_type": "markdown",
   "id": "ba710cf9-dfe3-445d-af2c-aebe62380176",
   "metadata": {},
   "source": [
    "####  3.4.3 Search for Belonging"
   ]
  },
  {
   "cell_type": "code",
   "execution_count": 29,
   "id": "349a6a3d-1007-4cfe-939f-88736e98318c",
   "metadata": {},
   "outputs": [
    {
     "name": "stdout",
     "output_type": "stream",
     "text": [
      "False\n"
     ]
    }
   ],
   "source": [
    "print(\"age\" in the_keys)"
   ]
  },
  {
   "cell_type": "code",
   "execution_count": 30,
   "id": "13d67ac8-88e2-4d8e-bca2-453808755135",
   "metadata": {},
   "outputs": [
    {
     "name": "stdout",
     "output_type": "stream",
     "text": [
      "True\n"
     ]
    }
   ],
   "source": [
    " print(\"nom\" in the_keys)"
   ]
  },
  {
   "cell_type": "code",
   "execution_count": 31,
   "id": "31625d8b-d4b0-400d-9570-dd06b790e25a",
   "metadata": {},
   "outputs": [
    {
     "name": "stdout",
     "output_type": "stream",
     "text": [
      "True\n"
     ]
    }
   ],
   "source": [
    "print(['Cleveland', 'Boston'] in the_values)"
   ]
  },
  {
   "cell_type": "markdown",
   "id": "85f3a9ed-57ab-4714-9709-e78bbb5a1473",
   "metadata": {},
   "source": [
    "`print(\"age\" in the_keys)` → Kiểm tra xem key `\"age\"` có trong các key của dictionary hay không, in ra `False` \n",
    "\n",
    "`print(\"nom\" in the_keys)` → Kiểm tra xem key `\"nom\"` có trong các key của dictionary hay không, in ra `True`\n",
    "\n",
    "`print(['Cleveland', 'Boston'] in the_values)` → Kiểm tra xem list `['Cleveland', 'Boston']` có trong các giá trị của dictionary hay không, in ra `True`.\n"
   ]
  },
  {
   "cell_type": "markdown",
   "id": "08af6d54-9dc8-410d-b647-05b25825be7d",
   "metadata": {},
   "source": [
    "#### 3.4.4 Modification"
   ]
  },
  {
   "cell_type": "markdown",
   "id": "df456fc6-597f-4956-a1f5-b17194099363",
   "metadata": {},
   "source": [
    "##### 3.4.4.1 Replacement"
   ]
  },
  {
   "cell_type": "code",
   "execution_count": 32,
   "id": "5f7ba32a-37bd-4d87-b680-60add6228971",
   "metadata": {},
   "outputs": [
    {
     "name": "stdout",
     "output_type": "stream",
     "text": [
      "{'nom': 'Kyrie', 'prenom': 'John', 'naissance': 1992, 'equipes': ['Montclair Kimberley Academy', 'Cleveland Cavaliers', 'Boston Celtics']}\n"
     ]
    }
   ],
   "source": [
    " my_dict[\"equipes\"] = [\"Montclair Kimberley Academy\",\n",
    " \"Cleveland Cavaliers\", \"Boston Celtics\"]\n",
    " print(my_dict)\n"
   ]
  },
  {
   "cell_type": "markdown",
   "id": "60f3dbec-cce8-45f6-a278-a5c45bf9db86",
   "metadata": {},
   "source": [
    "`my_dict[\"equipes\"] = [\"Montclair Kimberley Academy\", \"Cleveland Cavaliers\", \"Boston Celtics\"]` → Thay giá trị của key `\"equipes\"` trong dictionary `my_dict` **và**\n",
    "`print(my_dict)` → In ra dictionary `my_dict` sau khi thay đổi.\n"
   ]
  },
  {
   "cell_type": "markdown",
   "id": "2949d50c-453a-4c36-a721-233ebd0cc384",
   "metadata": {},
   "source": [
    "##### 3.4.4.2 Adding Elements"
   ]
  },
  {
   "cell_type": "code",
   "execution_count": 33,
   "id": "f7adecfc-50e2-4e9e-a70b-986b5986680e",
   "metadata": {},
   "outputs": [
    {
     "name": "stdout",
     "output_type": "stream",
     "text": [
      "{'nom': 'Kyrie', 'prenom': 'John', 'naissance': 1992, 'equipes': ['Montclair Kimberley Academy', 'Cleveland Cavaliers', 'Boston Celtics'], 'taille_cm': 191}\n"
     ]
    }
   ],
   "source": [
    "my_dict[\"taille_cm\"] = 191\n",
    "print(my_dict)"
   ]
  },
  {
   "cell_type": "markdown",
   "id": "1402b603-a3bd-4559-a739-c71b37e23c8e",
   "metadata": {},
   "source": [
    "`my_dict[\"taille_cm\"] = 191` → Thêm key `\"taille_cm\"` với giá trị `191` vào dictionary `my_dict` **và**\n",
    "`print(my_dict)` → In ra dictionary `my_dict` sau khi thêm."
   ]
  },
  {
   "cell_type": "code",
   "execution_count": 34,
   "id": "dcd247a6-655c-4f80-8726-957beb839cea",
   "metadata": {},
   "outputs": [
    {
     "name": "stdout",
     "output_type": "stream",
     "text": [
      "{'masse_kg': 88, 'debut_nba': 2011}\n"
     ]
    }
   ],
   "source": [
    " second_dict = {\"masse_kg\" : 88, \"debut_nba\" : 2011}\n",
    " print(second_dict)"
   ]
  },
  {
   "cell_type": "markdown",
   "id": "fcaca8c0-f758-45fe-b422-b1a84b52a35a",
   "metadata": {},
   "source": [
    "`second_dict = {\"masse_kg\" : 88, \"debut_nba\" : 2011}` → Tạo một **dictionary** mới với các cặp key-value **và**\n",
    "`print(second_dict)` → In ra dictionary `second_dict`."
   ]
  },
  {
   "cell_type": "code",
   "execution_count": 35,
   "id": "f493793f-6d8f-453e-b923-eef63cb75dcf",
   "metadata": {},
   "outputs": [
    {
     "name": "stdout",
     "output_type": "stream",
     "text": [
      "{'nom': 'Kyrie', 'prenom': 'John', 'naissance': 1992, 'equipes': ['Montclair Kimberley Academy', 'Cleveland Cavaliers', 'Boston Celtics'], 'taille_cm': 191, 'masse_kg': 88, 'debut_nba': 2011}\n"
     ]
    }
   ],
   "source": [
    "my_dict.update(second_dict)\n",
    "print(my_dict)"
   ]
  },
  {
   "cell_type": "markdown",
   "id": "a518b090-88c9-40f5-a038-67fa1282f17b",
   "metadata": {},
   "source": [
    "`my_dict.update(second_dict)` → Thêm tất cả các cặp key-value từ `second_dict` vào `my_dict` (nếu key trùng sẽ ghi đè) **và**\n",
    "`print(my_dict)` → In ra dictionary `my_dict` sau khi cập nhật.\n"
   ]
  },
  {
   "cell_type": "code",
   "execution_count": 37,
   "id": "f5fc6765-5b9e-429b-b324-b7494ddf72a3",
   "metadata": {},
   "outputs": [
    {
     "name": "stdout",
     "output_type": "stream",
     "text": [
      "{'masse_kg': 88, 'debut_nba': 2011, 'poste': 'PG'}\n"
     ]
    }
   ],
   "source": [
    "second_dict[\"poste\"] = \"PG\"\n",
    "print(second_dict)"
   ]
  },
  {
   "cell_type": "markdown",
   "id": "386e71b7-aa84-42d3-a255-fe01cd6cd3ea",
   "metadata": {},
   "source": [
    "`second_dict[\"poste\"] = \"PG\"` → Thêm key `\"poste\"` với giá trị `\"PG\"` vào dictionary `second_dict` **và**\n",
    "`print(second_dict)` → In ra dictionary `second_dict` sau khi thêm.\n"
   ]
  },
  {
   "cell_type": "code",
   "execution_count": 38,
   "id": "17d53c33-d233-49e0-b1e3-2f508070a969",
   "metadata": {},
   "outputs": [
    {
     "name": "stdout",
     "output_type": "stream",
     "text": [
      "{'nom': 'Kyrie', 'prenom': 'John', 'naissance': 1992, 'equipes': ['Montclair Kimberley Academy', 'Cleveland Cavaliers', 'Boston Celtics'], 'taille_cm': 191, 'masse_kg': 88, 'debut_nba': 2011}\n"
     ]
    }
   ],
   "source": [
    "print(my_dict)"
   ]
  },
  {
   "cell_type": "markdown",
   "id": "e95a9417-5272-4de4-93ab-7e77251788d0",
   "metadata": {},
   "source": [
    "`print(my_dict)` → In ra dictionary `my_dict` để kiểm tra rằng nó **không bị ảnh hưởng** bởi thay đổi trên `second_dict`.\n"
   ]
  },
  {
   "cell_type": "markdown",
   "id": "25b97534-fbd4-42a3-a46f-69beadbc386b",
   "metadata": {},
   "source": [
    "#####  3.4.4.3 Deleting elements"
   ]
  },
  {
   "cell_type": "code",
   "execution_count": 40,
   "id": "12a30246-b208-4e7d-9264-7f69e8ebb1fb",
   "metadata": {},
   "outputs": [
    {
     "name": "stdout",
     "output_type": "stream",
     "text": [
      "{'nom': 'Kyrie', 'prenom': 'John', 'naissance': 1992, 'equipes': ['Montclair Kimberley Academy', 'Cleveland Cavaliers', 'Boston Celtics'], 'taille_cm': 191, 'masse_kg': 88}\n"
     ]
    }
   ],
   "source": [
    "del my_dict[\"debut_nba\"]\n",
    "print(my_dict)"
   ]
  },
  {
   "cell_type": "markdown",
   "id": "cf989a7f-d784-466a-a559-22587e306c48",
   "metadata": {},
   "source": [
    "`del my_dict[\"debut_nba\"]` → Xóa cặp key-value có key `\"debut_nba\"` khỏi dictionary `my_dict` **và**\n",
    "`print(my_dict)` → In ra dictionary `my_dict` sau khi xóa.\n"
   ]
  },
  {
   "cell_type": "code",
   "execution_count": 41,
   "id": "12802b95-4236-495f-a7ef-b674099e27dc",
   "metadata": {},
   "outputs": [
    {
     "name": "stdout",
     "output_type": "stream",
     "text": [
      "{'nom': 'Kyrie', 'prenom': 'John', 'naissance': 1992, 'equipes': ['Montclair Kimberley Academy', 'Cleveland Cavaliers', 'Boston Celtics'], 'taille_cm': 191}\n"
     ]
    }
   ],
   "source": [
    " res = my_dict.pop(\"masse_kg\")\n",
    " print(my_dict)"
   ]
  },
  {
   "cell_type": "markdown",
   "id": "185d2688-ccf5-4c94-815e-bffb58e4e906",
   "metadata": {},
   "source": [
    "`res = my_dict.pop(\"masse_kg\")` → Xóa cặp key-value có key `\"masse_kg\"` khỏi dictionary `my_dict` và gán giá trị bị xóa vào biến `res` **và**\n",
    "`print(my_dict)` → In ra dictionary `my_dict` sau khi xóa.\n"
   ]
  },
  {
   "cell_type": "code",
   "execution_count": 42,
   "id": "60599e90-60b0-4b80-b1f9-4f13da48b419",
   "metadata": {},
   "outputs": [
    {
     "name": "stdout",
     "output_type": "stream",
     "text": [
      "88\n"
     ]
    }
   ],
   "source": [
    "print(res)"
   ]
  },
  {
   "cell_type": "markdown",
   "id": "a571c454-ff9f-4f75-bf8d-81b170c99249",
   "metadata": {},
   "source": [
    "`print(res)` → In ra giá trị đã bị xóa khỏi dictionary `my_dict`, ở đây là `88`.\n"
   ]
  },
  {
   "cell_type": "markdown",
   "id": "a00d5429-7a94-44cf-a55b-78a3e162d77a",
   "metadata": {},
   "source": [
    "####  3.4.5 Copy of a Dictionary"
   ]
  },
  {
   "cell_type": "code",
   "execution_count": 43,
   "id": "ddd14798-a76e-496f-bee1-82bf1285820d",
   "metadata": {},
   "outputs": [
    {
     "name": "stdout",
     "output_type": "stream",
     "text": [
      "d:  {'Marseille': 13, 'Rennes': 35}\n"
     ]
    }
   ],
   "source": [
    " d = {\"Marseille\": 13, \"Rennes\" : 35}\n",
    " d2 = d.copy()\n",
    " d2[\"Paris\"] = 75\n",
    " print(\"d: \", d)"
   ]
  },
  {
   "cell_type": "markdown",
   "id": "e482d9c7-4e35-48de-a9de-fb10d607db07",
   "metadata": {},
   "source": [
    "`d2 = d.copy()` → Tạo một **bản sao** của dictionary `d` \n",
    "\n",
    "`d2[\"Paris\"] = 75` → Thêm key `\"Paris\"` với giá trị `75` vào dictionary `d2` \n",
    "\n",
    "`print(\"d: \", d)` → In ra dictionary gốc `d`, không bị ảnh hưởng bởi thay đổi trên `d2`.\n"
   ]
  },
  {
   "cell_type": "code",
   "execution_count": 45,
   "id": "59346ac1-2dc4-4738-b56d-7027d31a9b72",
   "metadata": {},
   "outputs": [
    {
     "name": "stdout",
     "output_type": "stream",
     "text": [
      "d2:  {'Marseille': 13, 'Rennes': 35, 'Paris': 75}\n"
     ]
    }
   ],
   "source": [
    "print(\"d2: \", d2)"
   ]
  },
  {
   "cell_type": "markdown",
   "id": "13fc1db1-cf12-4364-a8fb-8150e611d705",
   "metadata": {},
   "source": [
    "`print(\"d2: \", d2)` → In ra dictionary `d2` sau khi thêm key `\"Paris\"` với giá trị `75`.\n"
   ]
  },
  {
   "cell_type": "markdown",
   "id": "136bfacf-6bfc-42c2-808d-5b464147e38c",
   "metadata": {},
   "source": [
    "#### 3.4.6 Exercise"
   ]
  },
  {
   "cell_type": "markdown",
   "id": "d674080c-3955-47e4-9fe4-21bc463c03ee",
   "metadata": {},
   "source": [
    "#### 1"
   ]
  },
  {
   "cell_type": "code",
   "execution_count": 48,
   "id": "aba9180f-8c30-4566-b2e2-9833517e29d0",
   "metadata": {},
   "outputs": [],
   "source": [
    "photo = {\n",
    "    \"id\": 1,\n",
    "    \"description\": \"A photo of the Old Port of Marseille\",\n",
    "    \"loc\": [5.3772133, 43.302424]\n",
    "}"
   ]
  },
  {
   "cell_type": "markdown",
   "id": "6e825251-3585-4d84-85d4-6b7bc86d74d7",
   "metadata": {},
   "source": [
    "#### 2"
   ]
  },
  {
   "cell_type": "code",
   "execution_count": 49,
   "id": "a812785c-e7f9-4a15-83b5-c78c25bd295f",
   "metadata": {},
   "outputs": [],
   "source": [
    "photo[\"user\"] = \"bob\""
   ]
  },
  {
   "cell_type": "markdown",
   "id": "0b29d4c2-701c-4f31-ac37-b9f13c6e84ce",
   "metadata": {},
   "source": [
    "#### 3"
   ]
  },
  {
   "cell_type": "code",
   "execution_count": 50,
   "id": "9b0245d9-d686-4016-ab88-084efc51cfef",
   "metadata": {},
   "outputs": [
    {
     "name": "stdout",
     "output_type": "stream",
     "text": [
      "description: A photo of the Old Port of Marseille\n"
     ]
    }
   ],
   "source": [
    "if \"description\" in photo:\n",
    "    print(\"description:\", photo[\"description\"])"
   ]
  },
  {
   "cell_type": "markdown",
   "id": "4136cf3e-95b2-44e8-b3b8-2fdac713fe41",
   "metadata": {},
   "source": [
    "#### 4"
   ]
  },
  {
   "cell_type": "code",
   "execution_count": 51,
   "id": "a8183685-e9df-499e-a441-81c5e4f16f42",
   "metadata": {},
   "outputs": [],
   "source": [
    "del photo[\"user\"]"
   ]
  },
  {
   "cell_type": "markdown",
   "id": "c40303a4-5f1a-4870-8e6e-bf159f86faae",
   "metadata": {},
   "source": [
    "#### 5"
   ]
  },
  {
   "cell_type": "code",
   "execution_count": 52,
   "id": "e1828eb4-bc67-4a3e-bb48-cfd6274bec25",
   "metadata": {},
   "outputs": [],
   "source": [
    "photo[\"loc\"] = [5.3692712, 43.2949627]"
   ]
  },
  {
   "cell_type": "markdown",
   "id": "8b8bc4a2-dbb8-426f-913e-e008160162e7",
   "metadata": {},
   "source": [
    "#### 6"
   ]
  },
  {
   "cell_type": "code",
   "execution_count": 53,
   "id": "a86316d8-0f5f-4d41-9713-ef7a95cf16c6",
   "metadata": {},
   "outputs": [
    {
     "name": "stdout",
     "output_type": "stream",
     "text": [
      "{'id': 1, 'description': 'A photo of the Old Port of Marseille', 'loc': [5.3692712, 43.2949627]}\n"
     ]
    }
   ],
   "source": [
    "print(photo)"
   ]
  },
  {
   "cell_type": "code",
   "execution_count": null,
   "id": "2cddb8c9-bec6-42d8-96c4-e0163c8ca3c4",
   "metadata": {},
   "outputs": [],
   "source": []
  }
 ],
 "metadata": {
  "kernelspec": {
   "display_name": "Python 3 (ipykernel)",
   "language": "python",
   "name": "python3"
  },
  "language_info": {
   "codemirror_mode": {
    "name": "ipython",
    "version": 3
   },
   "file_extension": ".py",
   "mimetype": "text/x-python",
   "name": "python",
   "nbconvert_exporter": "python",
   "pygments_lexer": "ipython3",
   "version": "3.12.1"
  }
 },
 "nbformat": 4,
 "nbformat_minor": 5
}
