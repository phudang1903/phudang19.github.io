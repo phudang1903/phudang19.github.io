{
 "cells": [
  {
   "cell_type": "markdown",
   "id": "596041fa-df49-4a80-bb5f-ab3b95958995",
   "metadata": {},
   "source": [
    "# CHAPTER 5"
   ]
  },
  {
   "cell_type": "markdown",
   "id": "21fbc5c4-a884-4163-b4ae-484b4563155e",
   "metadata": {},
   "source": [
    "# Loading and Saving Data"
   ]
  },
  {
   "cell_type": "code",
   "execution_count": 6,
   "id": "bcaf674e-dd59-4892-8245-87d8e952e4bc",
   "metadata": {},
   "outputs": [
    {
     "name": "stdout",
     "output_type": "stream",
     "text": [
      "/workspaces/phudang19.github.io/ex\n"
     ]
    }
   ],
   "source": [
    "import os\n",
    "cwd = os.getcwd()\n",
    "print(cwd)"
   ]
  },
  {
   "cell_type": "markdown",
   "id": "5786e22d-028a-480b-8e81-2ff22873b860",
   "metadata": {},
   "source": [
    "### 5.1 Load Data"
   ]
  },
  {
   "cell_type": "markdown",
   "id": "6b6718f6-2f11-4487-9d25-4e853f1ffd89",
   "metadata": {},
   "source": [
    "Chapter 10 provides other ways to import data, with the pandas library."
   ]
  },
  {
   "cell_type": "markdown",
   "id": "3ac8ca09-5bd5-4937-a904-e6e74da64c1a",
   "metadata": {},
   "source": [
    "#### 5.1.1 Fichiers textes"
   ]
  },
  {
   "cell_type": "code",
   "execution_count": 19,
   "id": "b03c39de-f984-419c-a0b0-dc1979a1cbdf",
   "metadata": {},
   "outputs": [
    {
     "name": "stdout",
     "output_type": "stream",
     "text": [
      "Bonjour , je suis un fichier au format txt.\n",
      "Je contiens plusieurs lignes , l'idée étant de montrer\n",
      "comment fonctionne l'importation d'un tel fichier dans Python.\n",
      "Trois lignes devraient suffir.\n",
      "\n"
     ]
    }
   ],
   "source": [
    "open(path, mode=\"r\") mở file ở đường dẫn path để đọc, read() lấy toàn bộ nội dung file dạng chuỗi, print() in chuỗi đó ra màn hình.\n"
   ]
  },
  {
   "cell_type": "markdown",
   "id": "bff2d429-6894-49b2-8762-1e16ef7544c8",
   "metadata": {},
   "source": [
    "open(path, mode=\"r\") mở file ở đường dẫn path để đọc, read() lấy toàn bộ nội dung file dạng chuỗi, print() in chuỗi đó ra màn hình."
   ]
  },
  {
   "cell_type": "code",
   "execution_count": 28,
   "id": "479d4edb-39e6-42cd-8fc2-4c86d0b7e431",
   "metadata": {},
   "outputs": [
    {
     "name": "stdout",
     "output_type": "stream",
     "text": [
      "['Bonjour , je suis un fichier au format txt.\\n', \"Je contiens plusieurs lignes , l'idée étant de montrer\\n\", \"comment fonctionne l'importation d'un tel fichier dans Python.\\n\", 'Trois lignes devraient suffir.\\n']\n"
     ]
    }
   ],
   "source": [
    "with open(path, \"r\") as my_file:\n",
    "    data = [x for x in my_file]\n",
    "print(data)"
   ]
  },
  {
   "cell_type": "markdown",
   "id": "18481871-29ad-4dda-970d-885956d77f98",
   "metadata": {},
   "source": [
    "dòng with open(path, \"r\") as my_file: mở file để đọc,\n",
    "[x for x in my_file] đọc từng dòng của file và tạo thành danh sách,\n",
    "print(data) in danh sách các dòng ra màn hình."
   ]
  },
  {
   "cell_type": "code",
   "execution_count": 27,
   "id": "7c8951fc-7989-41d7-b65d-da523aa05983",
   "metadata": {},
   "outputs": [
    {
     "name": "stdout",
     "output_type": "stream",
     "text": [
      "['Bonjour , je suis un fichier au format txt.', \"Je contiens plusieurs lignes , l'idée étant de montrer\", \"comment fonctionne l'importation d'un tel fichier dans Python.\", 'Trois lignes devraient suffir.']\n"
     ]
    }
   ],
   "source": [
    "with open(path, \"r\") as my_file:\n",
    "    data = [x.strip() for x in my_file]\n",
    "print(data)"
   ]
  },
  {
   "cell_type": "markdown",
   "id": "cf7f2758-20d3-465e-a1f0-9d1c0de0da72",
   "metadata": {},
   "source": [
    "with open(path, \"r\") as my_file: mở file để đọc,\n",
    "[x.strip() for x in my_file] đọc từng dòng rồi xóa khoảng trắng/ký tự xuống dòng ở đầu và cuối,\n",
    "print(data) in danh sách các dòng đã được làm sạch ra màn hình."
   ]
  },
  {
   "cell_type": "code",
   "execution_count": 29,
   "id": "7537d336-a290-46f4-94d1-1ba12679052a",
   "metadata": {},
   "outputs": [
    {
     "name": "stdout",
     "output_type": "stream",
     "text": [
      "['Bonjour , je suis un fichier au format txt.\\n', \"Je contiens plusieurs lignes , l'idée étant de montrer\\n\", \"comment fonctionne l'importation d'un tel fichier dans Python.\\n\", 'Trois lignes devraient suffir.\\n']\n"
     ]
    }
   ],
   "source": [
    "with open(path, \"r\") as my_file:\n",
    "    data = my_file.readlines()\n",
    "print(data)"
   ]
  },
  {
   "cell_type": "markdown",
   "id": "5b855fd3-7f0f-45d6-9dc2-fb9394167b98",
   "metadata": {},
   "source": [
    "with open(path, \"r\") as my_file: mở file để đọc,\n",
    "my_file.readlines() đọc toàn bộ file và trả về danh sách các dòng (bao gồm ký tự xuống dòng),\n",
    "print(data) in danh sách các dòng đó ra màn hình."
   ]
  },
  {
   "cell_type": "markdown",
   "id": "c16f49a3-78c6-4eb9-8020-63d0b82701d3",
   "metadata": {},
   "source": [
    "##### 5.1.1.1 Import from the Internet"
   ]
  },
  {
   "cell_type": "code",
   "execution_count": 31,
   "id": "ae63e093-0f00-4622-9fc7-749e315759ce",
   "metadata": {},
   "outputs": [
    {
     "name": "stdout",
     "output_type": "stream",
     "text": [
      "b\"Bonjour, je suis un fichier au format txt.\\nJe contiens plusieurs lignes, l'id\\xc3\\xa9e \\xc3\\xa9tant de montrer comment fonctionne l'importation d'un tel fichier dans Python.\\nTrois lignes devraient suffir.\"\n"
     ]
    }
   ],
   "source": [
    "import urllib\n",
    "from urllib.request import urlopen\n",
    "url = \"http://egallic.fr/Enseignement/Python/fichiers_exemples/fichier_texte.txt\"\n",
    "with urllib.request.urlopen(url) as my_file:\n",
    "    data = my_file.read()\n",
    "print(data)"
   ]
  },
  {
   "cell_type": "markdown",
   "id": "166b1551-701f-4874-be4f-142afc69aa0f",
   "metadata": {},
   "source": [
    "Mở file văn bản từ Internet, đọc toàn bộ nội dung dạng bytes và in ra màn hình."
   ]
  },
  {
   "cell_type": "code",
   "execution_count": 32,
   "id": "fd39fe7b-6bb6-4f47-b70d-d849938fe940",
   "metadata": {},
   "outputs": [
    {
     "name": "stdout",
     "output_type": "stream",
     "text": [
      "Bonjour, je suis un fichier au format txt.\n",
      "Je contiens plusieurs lignes, l'idée étant de montrer comment fonctionne l'importation d'un tel fichier dans Python.\n",
      "Trois lignes devraient suffir.\n"
     ]
    }
   ],
   "source": [
    "print(data.decode())"
   ]
  },
  {
   "cell_type": "markdown",
   "id": "42dbfcf0-90af-4179-a794-47b75d1c5cc9",
   "metadata": {},
   "source": [
    "Giải mã dữ liệu bytes thành chuỗi (theo UTF-8 mặc định) rồi in ra màn hình."
   ]
  },
  {
   "cell_type": "markdown",
   "id": "f7c59310-66fa-4a7c-9d1e-da99c9a0f2d4",
   "metadata": {},
   "source": [
    "#### 5.1.2 CSV Files"
   ]
  },
  {
   "cell_type": "code",
   "execution_count": 4,
   "id": "52b48441-6c1b-4680-b2af-d4f47e93ca2d",
   "metadata": {},
   "outputs": [
    {
     "name": "stdout",
     "output_type": "stream",
     "text": [
      "[[' nom ', 'prénom ', 'é quipe '], [' Irving ', ' \\\\\" Kyrie \\\\\"', ' \\\\\" Celtics \\\\\"'], [' James ', ' \\\\\" Lebron \\\\\"', ' \\\\\" Lakers \\\\\"', ' '], [' Curry ', ' \\\\\" Stephen \\\\\"', ' \\\\\" Golden State Warriors \\\\\" ']]\n"
     ]
    }
   ],
   "source": [
    "import csv\n",
    "with open('./fichiers_exemples/fichier_csv.csv') as my_file:\n",
    "    my_file_reader = csv.reader(my_file, delimiter=',', quotechar='\"')\n",
    "    data = [x for x in my_file_reader]\n",
    "print(data)"
   ]
  },
  {
   "cell_type": "markdown",
   "id": "bd2e2b10-71ea-4796-a900-9b79d4fe116f",
   "metadata": {},
   "source": [
    "import csv nạp thư viện xử lý CSV,\n",
    "with open('./fichiers_exemples/fichier_csv.csv') mở file CSV để đọc,\n",
    "csv.reader(my_file, delimiter=',', quotechar='\"') tạo đối tượng đọc CSV, tách cột theo dấu phẩy và nhận chuỗi trong dấu ngoặc kép,\n",
    "[x for x in my_file_reader] đọc từng dòng của file thành danh sách các giá trị và gom vào list data,\n",
    "print(data) in danh sách các dòng ra màn hình."
   ]
  },
  {
   "cell_type": "markdown",
   "id": "8e140515-daad-44a9-b019-2177e028e143",
   "metadata": {},
   "source": [
    "##### 5.1.2.1 Import From the Internet"
   ]
  },
  {
   "cell_type": "code",
   "execution_count": 6,
   "id": "73bfb4b6-fbd1-484e-ab3b-c4280db4b7b5",
   "metadata": {},
   "outputs": [
    {
     "name": "stdout",
     "output_type": "stream",
     "text": [
      "[['nom', 'prénom', 'équipe'], ['Irving', ' \"Kyrie\"', ' \"Celtics\"'], ['James', ' \"Lebron\"', ' \"Lakers\"', ''], ['Curry', ' \"Stephen\"', ' \"Golden State Warriors\"']]\n"
     ]
    }
   ],
   "source": [
    "import csv\n",
    "import urllib.request\n",
    "import codecs\n",
    "url = \"http://egallic.fr/Enseignement/Python/fichiers_exemples/fichier_csv.csv\"\n",
    "with urllib.request.urlopen(url) as my_file:\n",
    "    my_file_csv = csv.reader(codecs.iterdecode(my_file, 'utf-8'))\n",
    "    data = [ligne for ligne in my_file_csv]\n",
    "print(data)"
   ]
  },
  {
   "cell_type": "markdown",
   "id": "fca8c898-2b99-44c1-9dfa-c01f548dd681",
   "metadata": {},
   "source": [
    "import csv và import urllib.request, codecs để xử lý CSV từ Internet,\n",
    "url lưu địa chỉ file CSV trực tuyến,\n",
    "with urllib.request.urlopen(url) mở kết nối tới file CSV online,\n",
    "codecs.iterdecode(my_file, 'utf-8') giải mã dữ liệu bytes sang chuỗi UTF-8,\n",
    "csv.reader(...) đọc chuỗi CSV thành các dòng dữ liệu,\n",
    "[ligne for ligne in my_file_csv] duyệt từng dòng và lưu vào danh sách data,\n",
    "print(data) in danh sách các dòng CSV ra màn hình."
   ]
  },
  {
   "cell_type": "markdown",
   "id": "7462d20b-cfbf-4f96-9a1b-6328d2dbd3a9",
   "metadata": {},
   "source": [
    "#### 5.1.3 JSON Files"
   ]
  },
  {
   "cell_type": "code",
   "execution_count": 15,
   "id": "8e76c927-d861-4713-8240-a8ca9a49a2be",
   "metadata": {},
   "outputs": [],
   "source": [
    "import json\n",
    "url = './fichiers_exemples/tweets.json'\n",
    "with open(url) as my_file_json:\n",
    "    data = json.load(my_file_json)"
   ]
  },
  {
   "cell_type": "code",
   "execution_count": 16,
   "id": "658786d6-e25a-4a11-a636-25657a4bfd69",
   "metadata": {},
   "outputs": [
    {
     "name": "stdout",
     "output_type": "stream",
     "text": [
      "{' created_at ': 'Wed Sep 26 07:38:05 +0000 2018 ',\n",
      " ' user_mentions ': [{' id ': 111, 'screen_name ': ' nom_twittos1\\n'},\n",
      "                     {'id ': 112, 'screen_name ': ' nom_twittos2\\n'}],\n",
      " 'id ': 11,\n",
      " 'loc ': [{' long ': 5.3698}, {'lat ': 43.2965}],\n",
      " 'text ': 'Un tweet !'}\n"
     ]
    }
   ],
   "source": [
    "from pprint import pprint\n",
    "pprint(data)"
   ]
  },
  {
   "cell_type": "markdown",
   "id": "7b831777-3550-428b-b084-e7c6dcab1df5",
   "metadata": {},
   "source": [
    "from pprint import pprint để in dữ liệu (list, dict,…) có cấu trúc phức tạp với xuống dòng và căn lề rõ ràng, giúp dễ nhìn hơn so với print thường."
   ]
  },
  {
   "cell_type": "code",
   "execution_count": 17,
   "id": "af46a559-55d5-403e-aef3-f5da1c49a96d",
   "metadata": {},
   "outputs": [
    {
     "name": "stdout",
     "output_type": "stream",
     "text": [
      "{'created_at': 'Wed Sep 26 07:38:05 +0000 2018',\n",
      " 'id': 11,\n",
      " 'loc': [{'long': 5.3698}, {'lat': 43.2965}],\n",
      " 'text': 'Un tweet !',\n",
      " 'user_mentions': [{'id': 111, 'screen_name': 'nom_twittos1'},\n",
      "                   {'id': 112, 'screen_name': 'nom_twittos2'}]}\n"
     ]
    }
   ],
   "source": [
    "import urllib\n",
    "from urllib.request import urlopen\n",
    "url = \"http://egallic.fr/Enseignement/Python/fichiers_exemples/tweets.json\"\n",
    "with urllib.request.urlopen(url) as my_file:\n",
    "    data = json.load(my_file)\n",
    "pprint(data)"
   ]
  },
  {
   "cell_type": "markdown",
   "id": "4e6efe1d-d0bf-4c5c-a2fd-6b53fe0d09c4",
   "metadata": {},
   "source": [
    "lấy file JSON từ Internet, đọc thành dữ liệu Python rồi in ra dễ đọc bằng pprint."
   ]
  },
  {
   "cell_type": "markdown",
   "id": "dc9df19f-2374-46bb-93c1-dd69ae9879b7",
   "metadata": {},
   "source": [
    "#### 5.1.4 Excel Files"
   ]
  },
  {
   "cell_type": "markdown",
   "id": "5951624a-36a9-401c-a4ae-b7edfa1e1411",
   "metadata": {},
   "source": [
    "### 5.2 Exporting data"
   ]
  },
  {
   "cell_type": "markdown",
   "id": "4cfa939f-35c9-49e3-92a9-c6005524ae3c",
   "metadata": {},
   "source": [
    "#### 5.2.1 Text Files\n"
   ]
  },
  {
   "cell_type": "code",
   "execution_count": 18,
   "id": "fc61fa91-1f1e-4bf7-94a8-34a03f657fab",
   "metadata": {},
   "outputs": [
    {
     "data": {
      "text/plain": [
       "\"['pomme', 1, 3]\""
      ]
     },
     "execution_count": 18,
     "metadata": {},
     "output_type": "execute_result"
    }
   ],
   "source": [
    "x = [\"pomme\", 1, 3]\n",
    "str(x)"
   ]
  },
  {
   "cell_type": "markdown",
   "id": "37f7edf9-b3ff-4f16-bed5-7193bf24dccd",
   "metadata": {},
   "source": [
    "biến list x được chuyển thành chuỗi dạng ký tự [ 'pomme', 1, 3]."
   ]
  },
  {
   "cell_type": "code",
   "execution_count": 20,
   "id": "4ece6e71-ccd2-4192-be74-9348fb81281f",
   "metadata": {},
   "outputs": [
    {
     "data": {
      "text/plain": [
       "\"'Fromage, tu veux du fromage ?\\\\n'\""
      ]
     },
     "execution_count": 20,
     "metadata": {},
     "output_type": "execute_result"
    }
   ],
   "source": [
    "y = \"Fromage, tu veux du fromage ?\\n\"\n",
    "repr(y)\n"
   ]
  },
  {
   "cell_type": "markdown",
   "id": "dc409558-1b85-432d-9378-e44679a61dc8",
   "metadata": {},
   "source": [
    "repr(y) sẽ hiện chuỗi nguyên vẹn, ký tự đặc biệt như \\n được hiển thị dưới dạng \\n thay vì xuống dòng thật.\n"
   ]
  },
  {
   "cell_type": "markdown",
   "id": "758f494a-cb11-45ab-93b1-12ec54678fb8",
   "metadata": {},
   "source": [
    "#### 5.2.2 CSV Files"
   ]
  },
  {
   "cell_type": "code",
   "execution_count": 43,
   "id": "84b46cfb-af3b-4d4d-a6c5-3ebe3986bea2",
   "metadata": {},
   "outputs": [],
   "source": [
    "import csv\n",
    "path = \"./fichiers_exemples/ffile_export.csv\"\n",
    "with open(path, mode='w') as my_file:\n",
    "    my_file_write = csv.writer(my_file, delimiter=',',\n",
    "quotechar='\"',\n",
    "quoting=csv.QUOTE_MINIMAL)\n",
    "    my_file_write.writerow(['Country', 'Year', 'Quarter', 'GR_PIB'])\n",
    "    my_file_write.writerow(['France', '2017', 'Q4', 0.7])\n",
    "    my_file_write.writerow(['France', '2018', 'Q1', 0.2])"
   ]
  },
  {
   "cell_type": "markdown",
   "id": "14854182-914f-4aaa-94bc-decf0fb6aa66",
   "metadata": {},
   "source": [
    "with open(path, 'w') as my_file: mở file để ghi, tự động đóng khi xong\n",
    "\n",
    "csv.writer(...) tạo đối tượng ghi CSV, delimiter=',' phân tách cột, quotechar='\"' bao giá trị cần\n",
    "\n",
    "writerow([...]) ghi một dòng vào file CSV"
   ]
  },
  {
   "cell_type": "markdown",
   "id": "75f69919-a86d-46a2-bf93-d4d759d4fb06",
   "metadata": {},
   "source": [
    "#### 5.2.3 JSON Files"
   ]
  },
  {
   "cell_type": "code",
   "execution_count": 44,
   "id": "52cb69cc-6106-4bac-8fe2-80e28e0624cb",
   "metadata": {},
   "outputs": [
    {
     "name": "stdout",
     "output_type": "stream",
     "text": [
      "x_json:  [1, \"apple\", [\"seed\", \"red\"]]\n"
     ]
    }
   ],
   "source": [
    "import json\n",
    "x = [1, \"apple\", [\"seed\", \"red\"]]\n",
    "y = { \"name\": \"Kyrie\",\n",
    "\"surname\": \"John\",\n",
    "\"year_of_birth\": 1992,\n",
    "\"teams\": [\"Cleveland\", \"Boston\", \"Nets\"]}\n",
    "x_json = json.dumps(x)\n",
    "y_json = json.dumps(y)\n",
    "print(\"x_json: \", x_json)"
   ]
  },
  {
   "cell_type": "markdown",
   "id": "03a6c016-24ec-4e88-aa0b-00b63d358cb3",
   "metadata": {},
   "source": [
    "import json để dùng JSON\n",
    "\n",
    "x là list gồm số, chuỗi, list con\n",
    "\n",
    "y là dictionary thông tin Kyrie\n",
    "\n",
    "json.dumps(x) chuyển x thành chuỗi JSON\n",
    "\n",
    "json.dumps(y) chuyển y thành chuỗi JSON\n",
    "\n",
    "print(x_json) in chuỗi JSON của x"
   ]
  },
  {
   "cell_type": "code",
   "execution_count": 45,
   "id": "e556c389-ac73-4182-a017-fbba30b88833",
   "metadata": {},
   "outputs": [
    {
     "name": "stdout",
     "output_type": "stream",
     "text": [
      "y_json:  {\"name\": \"Kyrie\", \"surname\": \"John\", \"year_of_birth\": 1992, \"teams\": [\"Cleveland\", \"Boston\", \"Nets\"]}\n"
     ]
    }
   ],
   "source": [
    "print(\"y_json: \", y_json)\n"
   ]
  },
  {
   "cell_type": "markdown",
   "id": "b3ebbacd-e3e8-419e-b035-48c0e2b55b1a",
   "metadata": {},
   "source": [
    "print(\"y_json\", y_json) in chuỗi JSON của y dưới dạng text, dictionary thành chuỗi JSON."
   ]
  },
  {
   "cell_type": "code",
   "execution_count": 46,
   "id": "0f0f7d60-4413-46de-a378-607f65016063",
   "metadata": {},
   "outputs": [
    {
     "name": "stdout",
     "output_type": "stream",
     "text": [
      "x_json:  [1, \"apple\", [\"seed\", \"red\"]]\n"
     ]
    }
   ],
   "source": [
    "x_json = json.dumps(x, ensure_ascii=False)\n",
    "y_json = json.dumps(y, ensure_ascii=False)\n",
    "print(\"x_json: \", x_json)"
   ]
  },
  {
   "cell_type": "markdown",
   "id": "bab0c3a4-6172-467a-8c82-de1ecd531851",
   "metadata": {},
   "source": [
    "json.dumps(x, ensure_ascii=False) chuyển list x thành chuỗi JSON, giữ nguyên ký tự không phải ASCII (ví dụ chữ có dấu).\n",
    "\n",
    "json.dumps(y, ensure_ascii=False) tương tự cho dictionary y.\n",
    "\n",
    "print(\"x_json: \", x_json) in chuỗi JSON của x."
   ]
  },
  {
   "cell_type": "code",
   "execution_count": 47,
   "id": "b057b31a-72f8-42cf-94e6-c31b2fec0b9a",
   "metadata": {},
   "outputs": [
    {
     "name": "stdout",
     "output_type": "stream",
     "text": [
      "y_json:  {\"name\": \"Kyrie\", \"surname\": \"John\", \"year_of_birth\": 1992, \"teams\": [\"Cleveland\", \"Boston\", \"Nets\"]}\n"
     ]
    }
   ],
   "source": [
    "print(\"y_json: \", y_json)"
   ]
  },
  {
   "cell_type": "markdown",
   "id": "6fc1dc5b-a59d-41cb-ad70-1727e7cec161",
   "metadata": {},
   "source": [
    "Dòng này in chuỗi JSON của dictionary y, kết quả là dictionary được chuyển thành chuỗi JSON với ký tự không ASCII giữ nguyên"
   ]
  },
  {
   "cell_type": "code",
   "execution_count": 5,
   "id": "afcbef73-c3c2-49d6-be10-5ed364a930f4",
   "metadata": {},
   "outputs": [
    {
     "name": "stdout",
     "output_type": "stream",
     "text": [
      "1\n"
     ]
    }
   ],
   "source": [
    "path = \"./fichiers_exemples/export_json.json\"\n",
    "with open(path, 'w') as f:\n",
    "    json.dump(json.dumps(x, ensure_ascii=False), f)\n",
    "    f.write('\\n')\n",
    "    json.dump(json.dumps(y, ensure_ascii=False), f)\n",
    "    print(n)"
   ]
  },
  {
   "cell_type": "markdown",
   "id": "a53febd2-02f6-41fc-8394-babd19d116e4",
   "metadata": {},
   "source": [
    "mở file để ghi với with open\n",
    "\n",
    "json.dumps(x, ensure_ascii=False) tạo chuỗi JSON từ x\n",
    "\n",
    "json.dump(..., f) ghi chuỗi đó vào file\n",
    "\n",
    "f.write('\\n') xuống dòng\n",
    "\n",
    "json.dumps(y, ensure_ascii=False) tạo chuỗi JSON từ y\n",
    "\n",
    "json.dump(..., f) ghi chuỗi y vào file\n",
    "\n",
    "print(n) lỗi vì n chưa định nghĩa, json.dump không trả về số ký tự"
   ]
  },
  {
   "cell_type": "code",
   "execution_count": 10,
   "id": "10eb40dd-35ef-44d1-975d-af23be9ecb5f",
   "metadata": {},
   "outputs": [
    {
     "name": "stdout",
     "output_type": "stream",
     "text": [
      "[[1, 'apple', ['seed', 'red']], {'name': 'Kyrie', 'surname': 'John', 'year_of_birth': 1992, 'teams': ['Cleveland', 'Boston', 'Nets']}]\n"
     ]
    }
   ],
   "source": [
    "import json\n",
    "\n",
    "x = [1, \"apple\", [\"seed\", \"red\"]]\n",
    "y = { \"name\": \"Kyrie\", \"surname\": \"John\", \"year_of_birth\": 1992, \"teams\": [\"Cleveland\", \"Boston\", \"Nets\"]}\n",
    "\n",
    "path = \"./fichiers_exemples/export_json.json\"\n",
    "\n",
    "# ghi trực tiếp x và y\n",
    "with open(path, 'w', encoding='utf-8') as f:\n",
    "    json.dump(x, f, ensure_ascii=False)\n",
    "    f.write('\\n')\n",
    "    json.dump(y, f, ensure_ascii=False)\n",
    "    f.write('\\n')\n",
    "\n",
    "# đọc lại\n",
    "data = []\n",
    "with open(path, 'r', encoding='utf-8') as f:\n",
    "    for line in f:\n",
    "        data.append(json.loads(line))\n",
    "\n",
    "print(data)\n"
   ]
  },
  {
   "cell_type": "markdown",
   "id": "20758405-0ff1-4a72-81fa-66dcbaf686be",
   "metadata": {},
   "source": [
    "ghi x và y vào file JSON\n",
    "\n",
    "mỗi bản ghi xuống dòng\n",
    "\n",
    "đọc lại từng dòng, chuyển thành list/dict\n",
    "\n",
    "in ra danh sách chứa x và y"
   ]
  },
  {
   "cell_type": "markdown",
   "id": "202815e6-9598-49ef-9b58-2c3d490b7b08",
   "metadata": {},
   "source": [
    "#### 5.2.4 Exercise"
   ]
  },
  {
   "cell_type": "markdown",
   "id": "7a761390-f23a-432b-a316-56f77ae5e7c7",
   "metadata": {},
   "source": [
    "#### 1. Create a list named a containing information on the unemployment rate in France in the second quarter of 2018. This list must contain three elements:"
   ]
  },
  {
   "cell_type": "code",
   "execution_count": 11,
   "id": "992842c6-5c22-4d6d-b5eb-84c101303c9f",
   "metadata": {},
   "outputs": [],
   "source": [
    "a = [2018, \"Q2\", 9.1]"
   ]
  },
  {
   "cell_type": "code",
   "execution_count": null,
   "id": "8db14aa9-f17d-42fa-a79d-14c928aa1687",
   "metadata": {},
   "outputs": [],
   "source": [
    "##"
   ]
  },
  {
   "cell_type": "code",
   "execution_count": null,
   "id": "bb99721b-cecf-413a-8361-8f3dbc5fec05",
   "metadata": {},
   "outputs": [],
   "source": [
    "import csv\n",
    "\n",
    "a = [2018, \"Q2\", 9.1]\n",
    "path = \"./fichiers_exemples/unemployment.csv\"\n",
    "\n",
    "with open(path, mode=\"w\", newline=\"\", encoding=\"utf-8\") as f:\n",
    "    writer = csv.writer(f, delimiter=\";\")\n",
    "    writer.writerow([\"Year\", \"Quarter\", \"Unemployment_rate\"])  # header\n",
    "    writer.writerow(a)  # dữ liệu\n"
   ]
  }
 ],
 "metadata": {
  "kernelspec": {
   "display_name": "Python 3 (ipykernel)",
   "language": "python",
   "name": "python3"
  },
  "language_info": {
   "codemirror_mode": {
    "name": "ipython",
    "version": 3
   },
   "file_extension": ".py",
   "mimetype": "text/x-python",
   "name": "python",
   "nbconvert_exporter": "python",
   "pygments_lexer": "ipython3",
   "version": "3.12.1"
  }
 },
 "nbformat": 4,
 "nbformat_minor": 5
}
